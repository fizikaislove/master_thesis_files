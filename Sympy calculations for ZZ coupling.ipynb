{
 "cells": [
  {
   "cell_type": "code",
   "execution_count": 1,
   "metadata": {},
   "outputs": [],
   "source": [
    "from sympy import *\n",
    "init_printing()"
   ]
  },
  {
   "cell_type": "code",
   "execution_count": 2,
   "metadata": {},
   "outputs": [],
   "source": [
    "import sympsi as spsi"
   ]
  },
  {
   "cell_type": "code",
   "execution_count": 3,
   "metadata": {},
   "outputs": [],
   "source": [
    "import sympy\n",
    "import numpy as np"
   ]
  },
  {
   "cell_type": "code",
   "execution_count": 4,
   "metadata": {},
   "outputs": [],
   "source": [
    "from sympy.matrices.expressions.kronecker import matrix_kronecker_product as kr_prod"
   ]
  },
  {
   "cell_type": "markdown",
   "metadata": {},
   "source": [
    "## Direct coupling"
   ]
  },
  {
   "cell_type": "code",
   "execution_count": 5,
   "metadata": {},
   "outputs": [],
   "source": [
    "w1,w2,alpha1,alpha2 = symbols(\"omega_1,omega_2,alpha_1,alpha_2\")\n",
    "g=symbols(\"g\")\n",
    "dva=symbols(\"2\")"
   ]
  },
  {
   "cell_type": "code",
   "execution_count": 41,
   "metadata": {},
   "outputs": [],
   "source": [
    "an=Matrix([[0,1,0],[0,0,np.sqrt(2)],[0,0,0]])\n",
    "cr=Matrix([[0,0,0],[1,0,0],[0,np.sqrt(2),0]])\n",
    "a_q1=kr_prod(eye(3),an)\n",
    "adag_q1=a_q1.T\n",
    "a_q2=kr_prod(an,eye(3))\n",
    "adag_q2=a_q2.T"
   ]
  },
  {
   "cell_type": "code",
   "execution_count": 49,
   "metadata": {},
   "outputs": [],
   "source": [
    "diag=w1*adag_q1*a_q1+alpha1/2*adag_q1*adag_q1*a_q1*a_q1+w2*adag_q2*a_q2+alpha2/2*adag_q2*adag_q2*a_q2*a_q2"
   ]
  },
  {
   "cell_type": "code",
   "execution_count": 52,
   "metadata": {},
   "outputs": [
    {
     "data": {
      "image/png": "[encoded data removed]",
      "text/latex": [
       "$$\\left[\\begin{matrix}0 & 0 & 0 & 0 & 0 & 0 & 0 & 0 & 0\\\\0 & \\omega_{1} & 0 & 0 & 0 & 0 & 0 & 0 & 0\\\\0 & 0 & 1.0 \\alpha_{1} + 2.0 \\omega_{1} & 0 & 0 & 0 & 0 & 0 & 0\\\\0 & 0 & 0 & \\omega_{2} & 0 & 0 & 0 & 0 & 0\\\\0 & 0 & 0 & 0 & \\omega_{1} + \\omega_{2} & 0 & 0 & 0 & 0\\\\0 & 0 & 0 & 0 & 0 & 1.0 \\alpha_{1} + 2.0 \\omega_{1} + \\omega_{2} & 0 & 0 & 0\\\\0 & 0 & 0 & 0 & 0 & 0 & 1.0 \\alpha_{2} + 2.0 \\omega_{2} & 0 & 0\\\\0 & 0 & 0 & 0 & 0 & 0 & 0 & 1.0 \\alpha_{2} + \\omega_{1} + 2.0 \\omega_{2} & 0\\\\0 & 0 & 0 & 0 & 0 & 0 & 0 & 0 & 1.0 \\alpha_{1} + 1.0 \\alpha_{2} + 2.0 \\omega_{1} + 2.0 \\omega_{2}\\end{matrix}\\right]$$"
      ],
      "text/plain": [
       "⎡0  0          0         0      0              0                   0          \n",
       "⎢                                                                             \n",
       "⎢0  ω₁         0         0      0              0                   0          \n",
       "⎢                                                                             \n",
       "⎢0  0   1.0⋅α₁ + 2.0⋅ω₁  0      0              0                   0          \n",
       "⎢                                                                             \n",
       "⎢0  0          0         ω₂     0              0                   0          \n",
       "⎢                                                                             \n",
       "⎢0  0          0         0   ω₁ + ω₂           0                   0          \n",
       "⎢                                                                             \n",
       "⎢0  0          0         0      0     1.0⋅α₁ + 2.0⋅ω₁ + ω₂         0          \n",
       "⎢                                                                             \n",
       "⎢0  0          0         0      0              0            1.0⋅α₂ + 2.0⋅ω₂   \n",
       "⎢                                                                             \n",
       "⎢0  0          0         0      0              0                   0         1\n",
       "⎢                                                                             \n",
       "⎣0  0          0         0      0              0                   0          \n",
       "\n",
       "        0                            0                ⎤\n",
       "                                                      ⎥\n",
       "        0                            0                ⎥\n",
       "                                                      ⎥\n",
       "        0                            0                ⎥\n",
       "                                                      ⎥\n",
       "        0                            0                ⎥\n",
       "                                                      ⎥\n",
       "        0                            0                ⎥\n",
       "                                                      ⎥\n",
       "        0                            0                ⎥\n",
       "                                                      ⎥\n",
       "        0                            0                ⎥\n",
       "                                                      ⎥\n",
       ".0⋅α₂ + ω₁ + 2.0⋅ω₂                  0                ⎥\n",
       "                                                      ⎥\n",
       "        0            1.0⋅α₁ + 1.0⋅α₂ + 2.0⋅ω₁ + 2.0⋅ω₂⎦"
      ]
     },
     "execution_count": 52,
     "metadata": {},
     "output_type": "execute_result"
    }
   ],
   "source": [
    "diag"
   ]
  },
  {
   "cell_type": "code",
   "execution_count": 53,
   "metadata": {},
   "outputs": [],
   "source": [
    "coupling = g*(an_q1*cr_q2+an_q2*cr_q1)\n",
    "coupling_nonrwa = g*(an_q1+cr_q1)*(an_q2+cr_q2)"
   ]
  },
  {
   "cell_type": "code",
   "execution_count": 54,
   "metadata": {},
   "outputs": [
    {
     "data": {
      "image/png": "[encoded data removed]",
      "text/latex": [
       "$$\\left[\\begin{matrix}0 & 0 & 0 & 0 & g & 0 & 0 & 0 & 0\\\\0 & 0 & 0 & g & 0 & 1.4142135623731 g & 0 & 0 & 0\\\\0 & 0 & 0 & 0 & 1.4142135623731 g & 0 & 0 & 0 & 0\\\\0 & g & 0 & 0 & 0 & 0 & 0 & 1.4142135623731 g & 0\\\\g & 0 & 1.4142135623731 g & 0 & 0 & 0 & 1.4142135623731 g & 0 & 2.0 g\\\\0 & 1.4142135623731 g & 0 & 0 & 0 & 0 & 0 & 2.0 g & 0\\\\0 & 0 & 0 & 0 & 1.4142135623731 g & 0 & 0 & 0 & 0\\\\0 & 0 & 0 & 1.4142135623731 g & 0 & 2.0 g & 0 & 0 & 0\\\\0 & 0 & 0 & 0 & 2.0 g & 0 & 0 & 0 & 0\\end{matrix}\\right]$$"
      ],
      "text/plain": [
       "⎡0          0                  0                  0                  g        \n",
       "⎢                                                                             \n",
       "⎢0          0                  0                  g                  0        \n",
       "⎢                                                                             \n",
       "⎢0          0                  0                  0          1.4142135623731⋅g\n",
       "⎢                                                                             \n",
       "⎢0          g                  0                  0                  0        \n",
       "⎢                                                                             \n",
       "⎢g          0          1.4142135623731⋅g          0                  0        \n",
       "⎢                                                                             \n",
       "⎢0  1.4142135623731⋅g          0                  0                  0        \n",
       "⎢                                                                             \n",
       "⎢0          0                  0                  0          1.4142135623731⋅g\n",
       "⎢                                                                             \n",
       "⎢0          0                  0          1.4142135623731⋅g          0        \n",
       "⎢                                                                             \n",
       "⎣0          0                  0                  0                2.0⋅g      \n",
       "\n",
       "          0                  0                  0            0  ⎤\n",
       "                                                                ⎥\n",
       "  1.4142135623731⋅g          0                  0            0  ⎥\n",
       "                                                                ⎥\n",
       "          0                  0                  0            0  ⎥\n",
       "                                                                ⎥\n",
       "          0                  0          1.4142135623731⋅g    0  ⎥\n",
       "                                                                ⎥\n",
       "          0          1.4142135623731⋅g          0          2.0⋅g⎥\n",
       "                                                                ⎥\n",
       "          0                  0                2.0⋅g          0  ⎥\n",
       "                                                                ⎥\n",
       "          0                  0                  0            0  ⎥\n",
       "                                                                ⎥\n",
       "        2.0⋅g                0                  0            0  ⎥\n",
       "                                                                ⎥\n",
       "          0                  0                  0            0  ⎦"
      ]
     },
     "execution_count": 54,
     "metadata": {},
     "output_type": "execute_result"
    }
   ],
   "source": [
    "coupling_nonrwa"
   ]
  },
  {
   "cell_type": "code",
   "execution_count": 55,
   "metadata": {},
   "outputs": [],
   "source": [
    "eigvals=sympy.simplify(diag.eigenvals())"
   ]
  },
  {
   "cell_type": "code",
   "execution_count": 56,
   "metadata": {},
   "outputs": [
    {
     "data": {
      "image/png": "[encoded data removed]",
      "text/latex": [
       "$$\\left \\{ 0 : 1, \\quad \\omega_{1} : 1, \\quad \\omega_{2} : 1, \\quad \\alpha_{1} + 2 \\omega_{1} : 1, \\quad \\alpha_{2} + 2 \\omega_{2} : 1, \\quad \\omega_{1} + \\omega_{2} : 1, \\quad \\alpha_{1} + 2 \\omega_{1} + \\omega_{2} : 1, \\quad \\alpha_{2} + \\omega_{1} + 2 \\omega_{2} : 1, \\quad \\alpha_{1} + \\alpha_{2} + 2 \\omega_{1} + 2 \\omega_{2} : 1\\right \\}$$"
      ],
      "text/plain": [
       "{0: 1, ω₁: 1, ω₂: 1, α₁ + 2⋅ω₁: 1, α₂ + 2⋅ω₂: 1, ω₁ + ω₂: 1, α₁ + 2⋅ω₁ + ω₂: 1\n",
       ", α₂ + ω₁ + 2⋅ω₂: 1, α₁ + α₂ + 2⋅ω₁ + 2⋅ω₂: 1}"
      ]
     },
     "execution_count": 56,
     "metadata": {},
     "output_type": "execute_result"
    }
   ],
   "source": [
    "eigvals"
   ]
  },
  {
   "cell_type": "code",
   "execution_count": 57,
   "metadata": {},
   "outputs": [],
   "source": [
    "eigens = sympy.simplify(diag.eigenvects())"
   ]
  },
  {
   "cell_type": "code",
   "execution_count": 58,
   "metadata": {},
   "outputs": [
    {
     "data": {
      "image/png": "[encoded data removed]",
      "text/latex": [
       "$$\\left [ \\left ( 0, \\quad 1, \\quad \\left [ \\left[\\begin{matrix}1.0\\\\0\\\\0\\\\0\\\\0\\\\0\\\\0\\\\0\\\\0\\end{matrix}\\right]\\right ]\\right ), \\quad \\left ( \\omega_{1}, \\quad 1, \\quad \\left [ \\left[\\begin{matrix}0\\\\1.0\\\\0\\\\0\\\\0\\\\0\\\\0\\\\0\\\\0\\end{matrix}\\right]\\right ]\\right ), \\quad \\left ( \\omega_{2}, \\quad 1, \\quad \\left [ \\left[\\begin{matrix}0\\\\0\\\\0\\\\1.0\\\\0\\\\0\\\\0\\\\0\\\\0\\end{matrix}\\right]\\right ]\\right ), \\quad \\left ( \\alpha_{1} + 2.0 \\omega_{1}, \\quad 1, \\quad \\left [ \\left[\\begin{matrix}0\\\\0\\\\1.0\\\\0\\\\0\\\\0\\\\0\\\\0\\\\0\\end{matrix}\\right]\\right ]\\right ), \\quad \\left ( \\alpha_{2} + 2.0 \\omega_{2}, \\quad 1, \\quad \\left [ \\left[\\begin{matrix}0\\\\0\\\\0\\\\0\\\\0\\\\0\\\\1.0\\\\0\\\\0\\end{matrix}\\right]\\right ]\\right ), \\quad \\left ( \\omega_{1} + \\omega_{2}, \\quad 1, \\quad \\left [ \\left[\\begin{matrix}0\\\\0\\\\0\\\\0\\\\1.0\\\\0\\\\0\\\\0\\\\0\\end{matrix}\\right]\\right ]\\right ), \\quad \\left ( \\alpha_{1} + 2.0 \\omega_{1} + \\omega_{2}, \\quad 1, \\quad \\left [ \\left[\\begin{matrix}0\\\\0\\\\0\\\\0\\\\0\\\\1.0\\\\0\\\\0\\\\0\\end{matrix}\\right]\\right ]\\right ), \\quad \\left ( \\alpha_{2} + \\omega_{1} + 2.0 \\omega_{2}, \\quad 1, \\quad \\left [ \\left[\\begin{matrix}0\\\\0\\\\0\\\\0\\\\0\\\\0\\\\0\\\\1.0\\\\0\\end{matrix}\\right]\\right ]\\right ), \\quad \\left ( \\alpha_{1} + \\alpha_{2} + 2.0 \\omega_{1} + 2.0 \\omega_{2}, \\quad 1, \\quad \\left [ \\left[\\begin{matrix}0\\\\0\\\\0\\\\0\\\\0\\\\0\\\\0\\\\0\\\\1.0\\end{matrix}\\right]\\right ]\\right )\\right ]$$"
      ],
      "text/plain": [
       "⎡⎛      ⎡⎡1.0⎤⎤⎞  ⎛       ⎡⎡ 0 ⎤⎤⎞  ⎛       ⎡⎡ 0 ⎤⎤⎞  ⎛                ⎡⎡ 0 ⎤⎤\n",
       "⎢⎜      ⎢⎢   ⎥⎥⎟  ⎜       ⎢⎢   ⎥⎥⎟  ⎜       ⎢⎢   ⎥⎥⎟  ⎜                ⎢⎢   ⎥⎥\n",
       "⎢⎜      ⎢⎢ 0 ⎥⎥⎟  ⎜       ⎢⎢1.0⎥⎥⎟  ⎜       ⎢⎢ 0 ⎥⎥⎟  ⎜                ⎢⎢ 0 ⎥⎥\n",
       "⎢⎜      ⎢⎢   ⎥⎥⎟  ⎜       ⎢⎢   ⎥⎥⎟  ⎜       ⎢⎢   ⎥⎥⎟  ⎜                ⎢⎢   ⎥⎥\n",
       "⎢⎜      ⎢⎢ 0 ⎥⎥⎟  ⎜       ⎢⎢ 0 ⎥⎥⎟  ⎜       ⎢⎢ 0 ⎥⎥⎟  ⎜                ⎢⎢1.0⎥⎥\n",
       "⎢⎜      ⎢⎢   ⎥⎥⎟  ⎜       ⎢⎢   ⎥⎥⎟  ⎜       ⎢⎢   ⎥⎥⎟  ⎜                ⎢⎢   ⎥⎥\n",
       "⎢⎜      ⎢⎢ 0 ⎥⎥⎟  ⎜       ⎢⎢ 0 ⎥⎥⎟  ⎜       ⎢⎢1.0⎥⎥⎟  ⎜                ⎢⎢ 0 ⎥⎥\n",
       "⎢⎜      ⎢⎢   ⎥⎥⎟  ⎜       ⎢⎢   ⎥⎥⎟  ⎜       ⎢⎢   ⎥⎥⎟  ⎜                ⎢⎢   ⎥⎥\n",
       "⎢⎜0, 1, ⎢⎢ 0 ⎥⎥⎟, ⎜ω₁, 1, ⎢⎢ 0 ⎥⎥⎟, ⎜ω₂, 1, ⎢⎢ 0 ⎥⎥⎟, ⎜α₁ + 2.0⋅ω₁, 1, ⎢⎢ 0 ⎥⎥\n",
       "⎢⎜      ⎢⎢   ⎥⎥⎟  ⎜       ⎢⎢   ⎥⎥⎟  ⎜       ⎢⎢   ⎥⎥⎟  ⎜                ⎢⎢   ⎥⎥\n",
       "⎢⎜      ⎢⎢ 0 ⎥⎥⎟  ⎜       ⎢⎢ 0 ⎥⎥⎟  ⎜       ⎢⎢ 0 ⎥⎥⎟  ⎜                ⎢⎢ 0 ⎥⎥\n",
       "⎢⎜      ⎢⎢   ⎥⎥⎟  ⎜       ⎢⎢   ⎥⎥⎟  ⎜       ⎢⎢   ⎥⎥⎟  ⎜                ⎢⎢   ⎥⎥\n",
       "⎢⎜      ⎢⎢ 0 ⎥⎥⎟  ⎜       ⎢⎢ 0 ⎥⎥⎟  ⎜       ⎢⎢ 0 ⎥⎥⎟  ⎜                ⎢⎢ 0 ⎥⎥\n",
       "⎢⎜      ⎢⎢   ⎥⎥⎟  ⎜       ⎢⎢   ⎥⎥⎟  ⎜       ⎢⎢   ⎥⎥⎟  ⎜                ⎢⎢   ⎥⎥\n",
       "⎢⎜      ⎢⎢ 0 ⎥⎥⎟  ⎜       ⎢⎢ 0 ⎥⎥⎟  ⎜       ⎢⎢ 0 ⎥⎥⎟  ⎜                ⎢⎢ 0 ⎥⎥\n",
       "⎢⎜      ⎢⎢   ⎥⎥⎟  ⎜       ⎢⎢   ⎥⎥⎟  ⎜       ⎢⎢   ⎥⎥⎟  ⎜                ⎢⎢   ⎥⎥\n",
       "⎣⎝      ⎣⎣ 0 ⎦⎦⎠  ⎝       ⎣⎣ 0 ⎦⎦⎠  ⎝       ⎣⎣ 0 ⎦⎦⎠  ⎝                ⎣⎣ 0 ⎦⎦\n",
       "\n",
       "⎞  ⎛                ⎡⎡ 0 ⎤⎤⎞  ⎛            ⎡⎡ 0 ⎤⎤⎞  ⎛                     ⎡⎡ \n",
       "⎟  ⎜                ⎢⎢   ⎥⎥⎟  ⎜            ⎢⎢   ⎥⎥⎟  ⎜                     ⎢⎢ \n",
       "⎟  ⎜                ⎢⎢ 0 ⎥⎥⎟  ⎜            ⎢⎢ 0 ⎥⎥⎟  ⎜                     ⎢⎢ \n",
       "⎟  ⎜                ⎢⎢   ⎥⎥⎟  ⎜            ⎢⎢   ⎥⎥⎟  ⎜                     ⎢⎢ \n",
       "⎟  ⎜                ⎢⎢ 0 ⎥⎥⎟  ⎜            ⎢⎢ 0 ⎥⎥⎟  ⎜                     ⎢⎢ \n",
       "⎟  ⎜                ⎢⎢   ⎥⎥⎟  ⎜            ⎢⎢   ⎥⎥⎟  ⎜                     ⎢⎢ \n",
       "⎟  ⎜                ⎢⎢ 0 ⎥⎥⎟  ⎜            ⎢⎢ 0 ⎥⎥⎟  ⎜                     ⎢⎢ \n",
       "⎟  ⎜                ⎢⎢   ⎥⎥⎟  ⎜            ⎢⎢   ⎥⎥⎟  ⎜                     ⎢⎢ \n",
       "⎟, ⎜α₂ + 2.0⋅ω₂, 1, ⎢⎢ 0 ⎥⎥⎟, ⎜ω₁ + ω₂, 1, ⎢⎢1.0⎥⎥⎟, ⎜α₁ + 2.0⋅ω₁ + ω₂, 1, ⎢⎢ \n",
       "⎟  ⎜                ⎢⎢   ⎥⎥⎟  ⎜            ⎢⎢   ⎥⎥⎟  ⎜                     ⎢⎢ \n",
       "⎟  ⎜                ⎢⎢ 0 ⎥⎥⎟  ⎜            ⎢⎢ 0 ⎥⎥⎟  ⎜                     ⎢⎢1\n",
       "⎟  ⎜                ⎢⎢   ⎥⎥⎟  ⎜            ⎢⎢   ⎥⎥⎟  ⎜                     ⎢⎢ \n",
       "⎟  ⎜                ⎢⎢1.0⎥⎥⎟  ⎜            ⎢⎢ 0 ⎥⎥⎟  ⎜                     ⎢⎢ \n",
       "⎟  ⎜                ⎢⎢   ⎥⎥⎟  ⎜            ⎢⎢   ⎥⎥⎟  ⎜                     ⎢⎢ \n",
       "⎟  ⎜                ⎢⎢ 0 ⎥⎥⎟  ⎜            ⎢⎢ 0 ⎥⎥⎟  ⎜                     ⎢⎢ \n",
       "⎟  ⎜                ⎢⎢   ⎥⎥⎟  ⎜            ⎢⎢   ⎥⎥⎟  ⎜                     ⎢⎢ \n",
       "⎠  ⎝                ⎣⎣ 0 ⎦⎦⎠  ⎝            ⎣⎣ 0 ⎦⎦⎠  ⎝                     ⎣⎣ \n",
       "\n",
       "0 ⎤⎤⎞  ⎛                     ⎡⎡ 0 ⎤⎤⎞  ⎛                              ⎡⎡ 0 ⎤⎤⎞\n",
       "  ⎥⎥⎟  ⎜                     ⎢⎢   ⎥⎥⎟  ⎜                              ⎢⎢   ⎥⎥⎟\n",
       "0 ⎥⎥⎟  ⎜                     ⎢⎢ 0 ⎥⎥⎟  ⎜                              ⎢⎢ 0 ⎥⎥⎟\n",
       "  ⎥⎥⎟  ⎜                     ⎢⎢   ⎥⎥⎟  ⎜                              ⎢⎢   ⎥⎥⎟\n",
       "0 ⎥⎥⎟  ⎜                     ⎢⎢ 0 ⎥⎥⎟  ⎜                              ⎢⎢ 0 ⎥⎥⎟\n",
       "  ⎥⎥⎟  ⎜                     ⎢⎢   ⎥⎥⎟  ⎜                              ⎢⎢   ⎥⎥⎟\n",
       "0 ⎥⎥⎟  ⎜                     ⎢⎢ 0 ⎥⎥⎟  ⎜                              ⎢⎢ 0 ⎥⎥⎟\n",
       "  ⎥⎥⎟  ⎜                     ⎢⎢   ⎥⎥⎟  ⎜                              ⎢⎢   ⎥⎥⎟\n",
       "0 ⎥⎥⎟, ⎜α₂ + ω₁ + 2.0⋅ω₂, 1, ⎢⎢ 0 ⎥⎥⎟, ⎜α₁ + α₂ + 2.0⋅ω₁ + 2.0⋅ω₂, 1, ⎢⎢ 0 ⎥⎥⎟\n",
       "  ⎥⎥⎟  ⎜                     ⎢⎢   ⎥⎥⎟  ⎜                              ⎢⎢   ⎥⎥⎟\n",
       ".0⎥⎥⎟  ⎜                     ⎢⎢ 0 ⎥⎥⎟  ⎜                              ⎢⎢ 0 ⎥⎥⎟\n",
       "  ⎥⎥⎟  ⎜                     ⎢⎢   ⎥⎥⎟  ⎜                              ⎢⎢   ⎥⎥⎟\n",
       "0 ⎥⎥⎟  ⎜                     ⎢⎢ 0 ⎥⎥⎟  ⎜                              ⎢⎢ 0 ⎥⎥⎟\n",
       "  ⎥⎥⎟  ⎜                     ⎢⎢   ⎥⎥⎟  ⎜                              ⎢⎢   ⎥⎥⎟\n",
       "0 ⎥⎥⎟  ⎜                     ⎢⎢1.0⎥⎥⎟  ⎜                              ⎢⎢ 0 ⎥⎥⎟\n",
       "  ⎥⎥⎟  ⎜                     ⎢⎢   ⎥⎥⎟  ⎜                              ⎢⎢   ⎥⎥⎟\n",
       "0 ⎦⎦⎠  ⎝                     ⎣⎣ 0 ⎦⎦⎠  ⎝                              ⎣⎣1.0⎦⎦⎠\n",
       "\n",
       "⎤\n",
       "⎥\n",
       "⎥\n",
       "⎥\n",
       "⎥\n",
       "⎥\n",
       "⎥\n",
       "⎥\n",
       "⎥\n",
       "⎥\n",
       "⎥\n",
       "⎥\n",
       "⎥\n",
       "⎥\n",
       "⎥\n",
       "⎥\n",
       "⎦"
      ]
     },
     "execution_count": 58,
     "metadata": {},
     "output_type": "execute_result"
    }
   ],
   "source": [
    "eigens"
   ]
  },
  {
   "cell_type": "code",
   "execution_count": 59,
   "metadata": {},
   "outputs": [
    {
     "data": {
      "image/png": "[encoded data removed]",
      "text/latex": [
       "$$\\left [ \\left[\\begin{matrix}0\\end{matrix}\\right], \\quad \\left[\\begin{matrix}0\\end{matrix}\\right], \\quad \\left[\\begin{matrix}0\\end{matrix}\\right], \\quad \\left[\\begin{matrix}0\\end{matrix}\\right], \\quad \\left[\\begin{matrix}0\\end{matrix}\\right], \\quad \\left[\\begin{matrix}0\\end{matrix}\\right], \\quad \\left[\\begin{matrix}0\\end{matrix}\\right], \\quad \\left[\\begin{matrix}0\\end{matrix}\\right], \\quad \\left[\\begin{matrix}0\\end{matrix}\\right]\\right ]$$"
      ],
      "text/plain": [
       "[[0], [0], [0], [0], [0], [0], [0], [0], [0]]"
      ]
     },
     "execution_count": 59,
     "metadata": {},
     "output_type": "execute_result"
    }
   ],
   "source": [
    "#first order\n",
    "delta1=[]\n",
    "for i in range(0,len(eigens)):\n",
    "    delta1.append(sympy.simplify((Matrix(eigens[i][-1])).T*coupling*(Matrix(eigens[i][-1]))))\n",
    "delta1"
   ]
  },
  {
   "cell_type": "code",
   "execution_count": 75,
   "metadata": {},
   "outputs": [],
   "source": [
    "#second order\n",
    "delta2=[]\n",
    "for i in range(0,len(eigens)):\n",
    "    summa=[]\n",
    "    for j in range(0,len(eigens)):\n",
    "        if i!=j:\n",
    "            value=sympy.simplify(((Matrix(eigens[j][-1])).T*coupling*(Matrix(eigens[i][-1])))**2)/(eigens[i][0]-\n",
    "                                                                                                      eigens[j][0])\n",
    "            summa.append(value[0])\n",
    "    delta2.append(sum(summa))"
   ]
  },
  {
   "cell_type": "code",
   "execution_count": 76,
   "metadata": {},
   "outputs": [
    {
     "data": {
      "image/png": "[encoded data removed]",
      "text/latex": [
       "$$\\left [ 0, \\quad \\frac{1.0 g^{2}}{\\omega_{1} - \\omega_{2}}, \\quad \\frac{1.0 g^{2}}{- \\omega_{1} + \\omega_{2}}, \\quad \\frac{2.0 g^{2}}{\\alpha_{1} + 1.0 \\omega_{1} - \\omega_{2}}, \\quad \\frac{2.0 g^{2}}{\\alpha_{2} - \\omega_{1} + 1.0 \\omega_{2}}, \\quad \\frac{2.0 g^{2}}{- \\alpha_{2} + \\omega_{1} - 1.0 \\omega_{2}} + \\frac{2.0 g^{2}}{- \\alpha_{1} - 1.0 \\omega_{1} + \\omega_{2}}, \\quad \\frac{4.0 g^{2}}{\\alpha_{1} - \\alpha_{2} + 1.0 \\omega_{1} - 1.0 \\omega_{2}}, \\quad \\frac{4.0 g^{2}}{- \\alpha_{1} + \\alpha_{2} - 1.0 \\omega_{1} + 1.0 \\omega_{2}}, \\quad 0\\right ]$$"
      ],
      "text/plain": [
       "⎡         2        2             2                 2                  2       \n",
       "⎢    1.0⋅g    1.0⋅g         2.0⋅g             2.0⋅g              2.0⋅g        \n",
       "⎢0, ───────, ────────, ────────────────, ────────────────, ───────────────── +\n",
       "⎣   ω₁ - ω₂  -ω₁ + ω₂  α₁ + 1.0⋅ω₁ - ω₂  α₂ - ω₁ + 1.0⋅ω₂  -α₂ + ω₁ - 1.0⋅ω₂  \n",
       "\n",
       "            2                      2                          2             ⎤\n",
       "       2.0⋅g                  4.0⋅g                      4.0⋅g              ⎥\n",
       " ─────────────────, ─────────────────────────, ──────────────────────────, 0⎥\n",
       " -α₁ - 1.0⋅ω₁ + ω₂  α₁ - α₂ + 1.0⋅ω₁ - 1.0⋅ω₂  -α₁ + α₂ - 1.0⋅ω₁ + 1.0⋅ω₂   ⎦"
      ]
     },
     "execution_count": 76,
     "metadata": {},
     "output_type": "execute_result"
    }
   ],
   "source": [
    "delta2"
   ]
  },
  {
   "cell_type": "code",
   "execution_count": 77,
   "metadata": {},
   "outputs": [
    {
     "data": {
      "image/png": "[encoded data removed]",
      "text/latex": [
       "$$\\left ( \\frac{2.0 g^{2}}{- \\alpha_{2} + \\omega_{1} - 1.0 \\omega_{2}} + \\frac{2.0 g^{2}}{- \\alpha_{1} - 1.0 \\omega_{1} + \\omega_{2}}, \\quad \\frac{1.0 g^{2}}{\\omega_{1} - \\omega_{2}}, \\quad \\frac{1.0 g^{2}}{- \\omega_{1} + \\omega_{2}}\\right )$$"
      ],
      "text/plain": [
       "⎛           2                   2             2        2 ⎞\n",
       "⎜      2.0⋅g               2.0⋅g         1.0⋅g    1.0⋅g  ⎟\n",
       "⎜───────────────── + ─────────────────, ───────, ────────⎟\n",
       "⎝-α₂ + ω₁ - 1.0⋅ω₂   -α₁ - 1.0⋅ω₁ + ω₂  ω₁ - ω₂  -ω₁ + ω₂⎠"
      ]
     },
     "execution_count": 77,
     "metadata": {},
     "output_type": "execute_result"
    }
   ],
   "source": [
    "delta2[5],delta2[1],delta2[2]"
   ]
  },
  {
   "cell_type": "code",
   "execution_count": 78,
   "metadata": {},
   "outputs": [
    {
     "data": {
      "image/png": "[encoded data removed]",
      "text/latex": [
       "$$- \\frac{2.0 g^{2} \\left(\\alpha_{1} + \\alpha_{2}\\right)}{\\left(\\alpha_{1} + 1.0 \\omega_{1} - \\omega_{2}\\right) \\left(\\alpha_{2} - \\omega_{1} + 1.0 \\omega_{2}\\right)}$$"
      ],
      "text/plain": [
       "                2                    \n",
       "          -2.0⋅g ⋅(α₁ + α₂)          \n",
       "─────────────────────────────────────\n",
       "(α₁ + 1.0⋅ω₁ - ω₂)⋅(α₂ - ω₁ + 1.0⋅ω₂)"
      ]
     },
     "execution_count": 78,
     "metadata": {},
     "output_type": "execute_result"
    }
   ],
   "source": [
    "#RWA\n",
    "zz_2order=sympy.simplify(delta2[5]-delta2[1]-delta2[2]+delta2[0])\n",
    "zz_2order"
   ]
  },
  {
   "cell_type": "code",
   "execution_count": 73,
   "metadata": {},
   "outputs": [
    {
     "data": {
      "image/png": "[encoded data removed]",
      "text/latex": [
       "$$\\left ( \\frac{4.0 g^{2}}{- \\alpha_{1} - \\alpha_{2} - 1.0 \\omega_{1} - 1.0 \\omega_{2}} + \\frac{2.0 g^{2}}{- \\alpha_{2} + \\omega_{1} - 1.0 \\omega_{2}} + \\frac{2.0 g^{2}}{- \\alpha_{1} - 1.0 \\omega_{1} + \\omega_{2}} + \\frac{1.0 g^{2}}{\\omega_{1} + \\omega_{2}}, \\quad \\frac{2.0 g^{2}}{- \\alpha_{1} - 1.0 \\omega_{1} - \\omega_{2}} + \\frac{1.0 g^{2}}{\\omega_{1} - \\omega_{2}}, \\quad \\frac{2.0 g^{2}}{- \\alpha_{2} - \\omega_{1} - 1.0 \\omega_{2}} + \\frac{1.0 g^{2}}{- \\omega_{1} + \\omega_{2}}\\right )$$"
      ],
      "text/plain": [
       "⎛               2                        2                   2              2 \n",
       "⎜          4.0⋅g                    2.0⋅g               2.0⋅g          1.0⋅g  \n",
       "⎜────────────────────────── + ───────────────── + ───────────────── + ───────,\n",
       "⎝-α₁ - α₂ - 1.0⋅ω₁ - 1.0⋅ω₂   -α₂ + ω₁ - 1.0⋅ω₂   -α₁ - 1.0⋅ω₁ + ω₂   ω₁ + ω₂ \n",
       "\n",
       "            2              2             2              2 ⎞\n",
       "       2.0⋅g          1.0⋅g         2.0⋅g          1.0⋅g  ⎟\n",
       " ───────────────── + ───────, ───────────────── + ────────⎟\n",
       " -α₁ - 1.0⋅ω₁ - ω₂   ω₁ - ω₂  -α₂ - ω₁ - 1.0⋅ω₂   -ω₁ + ω₂⎠"
      ]
     },
     "execution_count": 73,
     "metadata": {},
     "output_type": "execute_result"
    }
   ],
   "source": [
    "delta2[5],delta2[1],delta2[2]"
   ]
  },
  {
   "cell_type": "code",
   "execution_count": 74,
   "metadata": {},
   "outputs": [
    {
     "data": {
      "image/png": "[encoded data removed]",
      "text/latex": [
       "$$- \\frac{4.0 g^{2}}{\\alpha_{1} + \\alpha_{2} + 1.0 \\omega_{1} + 1.0 \\omega_{2}} + \\frac{2.0 g^{2}}{\\alpha_{2} + \\omega_{1} + 1.0 \\omega_{2}} - \\frac{2.0 g^{2}}{\\alpha_{2} - \\omega_{1} + 1.0 \\omega_{2}} + \\frac{2.0 g^{2}}{\\alpha_{1} + 1.0 \\omega_{1} + \\omega_{2}} - \\frac{2.0 g^{2}}{\\alpha_{1} + 1.0 \\omega_{1} - \\omega_{2}}$$"
      ],
      "text/plain": [
       "                 2                      2                  2                  \n",
       "            4.0⋅g                  2.0⋅g              2.0⋅g              2.0⋅g\n",
       "- ───────────────────────── + ──────────────── - ──────────────── + ──────────\n",
       "  α₁ + α₂ + 1.0⋅ω₁ + 1.0⋅ω₂   α₂ + ω₁ + 1.0⋅ω₂   α₂ - ω₁ + 1.0⋅ω₂   α₁ + 1.0⋅ω\n",
       "\n",
       "2                  2     \n",
       "              2.0⋅g      \n",
       "────── - ────────────────\n",
       "₁ + ω₂   α₁ + 1.0⋅ω₁ - ω₂"
      ]
     },
     "execution_count": 74,
     "metadata": {},
     "output_type": "execute_result"
    }
   ],
   "source": [
    "#Non RWA\n",
    "zz_2order = sympy.simplify(delta2[5]-delta2[1]-delta2[2]+delta2[0])\n",
    "zz_2order"
   ]
  },
  {
   "cell_type": "markdown",
   "metadata": {},
   "source": [
    "## coupling via a cavity"
   ]
  },
  {
   "cell_type": "code",
   "execution_count": 5,
   "metadata": {},
   "outputs": [],
   "source": [
    "w1,w2,wc,alpha1,alpha2,alphac = symbols(\"omega_1,omega_2,omega_c,alpha_1,alpha_2,alpha_c\")\n",
    "g1=symbols(\"g1c\")\n",
    "g2=symbols(\"g2c\")"
   ]
  },
  {
   "cell_type": "code",
   "execution_count": 6,
   "metadata": {},
   "outputs": [],
   "source": [
    "#qubit1, qubit2, coupler\n",
    "an=Matrix([[0,1,0],[0,0,np.sqrt(2)],[0,0,0]])\n",
    "cr=Matrix([[0,0,0],[1,0,0],[0,np.sqrt(2),0]])\n",
    "a_q1=kr_prod(an,eye(3),eye(3))\n",
    "adag_q1=a_q1.T\n",
    "a_q2=kr_prod(eye(3),an,eye(3))\n",
    "adag_q2=a_q2.T\n",
    "a_c=kr_prod(eye(3),eye(3),an)\n",
    "adag_c=a_c.T"
   ]
  },
  {
   "cell_type": "code",
   "execution_count": 7,
   "metadata": {},
   "outputs": [],
   "source": [
    "diag=w1*adag_q1*a_q1+alpha1/2*adag_q1*adag_q1*a_q1*a_q1+w2*adag_q2*a_q2+alpha2/2*adag_q2*adag_q2*a_q2*a_q2+\\\n",
    "wc*adag_c*a_c+alphac/2*adag_c*adag_c*a_c*a_c"
   ]
  },
  {
   "cell_type": "code",
   "execution_count": 8,
   "metadata": {},
   "outputs": [],
   "source": [
    "coupling_rwa = g1*(a_q1*adag_c+a_c*adag_q1)+g2*(a_q2*adag_c+a_c*adag_q2)\n",
    "coupling_nonrwa = g1*(a_q1+adag_q1)*(a_c+adag_c)+g2*(a_q2+adag_q2)*(a_c+adag_c)"
   ]
  },
  {
   "cell_type": "code",
   "execution_count": 9,
   "metadata": {},
   "outputs": [],
   "source": [
    "eigens = sympy.simplify(diag.eigenvects())"
   ]
  },
  {
   "cell_type": "code",
   "execution_count": 10,
   "metadata": {},
   "outputs": [
    {
     "data": {
      "image/png": "[encoded data removed]",
      "text/latex": [
       "$$\\left [ \\left[\\begin{matrix}0\\end{matrix}\\right], \\quad \\left[\\begin{matrix}0\\end{matrix}\\right], \\quad \\left[\\begin{matrix}0\\end{matrix}\\right], \\quad \\left[\\begin{matrix}0\\end{matrix}\\right], \\quad \\left[\\begin{matrix}0\\end{matrix}\\right], \\quad \\left[\\begin{matrix}0\\end{matrix}\\right], \\quad \\left[\\begin{matrix}0\\end{matrix}\\right], \\quad \\left[\\begin{matrix}0\\end{matrix}\\right], \\quad \\left[\\begin{matrix}0\\end{matrix}\\right], \\quad \\left[\\begin{matrix}0\\end{matrix}\\right], \\quad \\left[\\begin{matrix}0\\end{matrix}\\right], \\quad \\left[\\begin{matrix}0\\end{matrix}\\right], \\quad \\left[\\begin{matrix}0\\end{matrix}\\right], \\quad \\left[\\begin{matrix}0\\end{matrix}\\right], \\quad \\left[\\begin{matrix}0\\end{matrix}\\right], \\quad \\left[\\begin{matrix}0\\end{matrix}\\right], \\quad \\left[\\begin{matrix}0\\end{matrix}\\right], \\quad \\left[\\begin{matrix}0\\end{matrix}\\right], \\quad \\left[\\begin{matrix}0\\end{matrix}\\right], \\quad \\left[\\begin{matrix}0\\end{matrix}\\right], \\quad \\left[\\begin{matrix}0\\end{matrix}\\right], \\quad \\left[\\begin{matrix}0\\end{matrix}\\right], \\quad \\left[\\begin{matrix}0\\end{matrix}\\right], \\quad \\left[\\begin{matrix}0\\end{matrix}\\right], \\quad \\left[\\begin{matrix}0\\end{matrix}\\right], \\quad \\left[\\begin{matrix}0\\end{matrix}\\right], \\quad \\left[\\begin{matrix}0\\end{matrix}\\right]\\right ]$$"
      ],
      "text/plain": [
       "[[0], [0], [0], [0], [0], [0], [0], [0], [0], [0], [0], [0], [0], [0], [0], [0\n",
       "], [0], [0], [0], [0], [0], [0], [0], [0], [0], [0], [0]]"
      ]
     },
     "execution_count": 10,
     "metadata": {},
     "output_type": "execute_result"
    }
   ],
   "source": [
    "#first order\n",
    "delta1=[]\n",
    "for i in range(0,len(eigens)):\n",
    "    delta1.append(sympy.simplify((Matrix(eigens[i][-1])).T*coupling_rwa*(Matrix(eigens[i][-1]))))\n",
    "delta1"
   ]
  },
  {
   "cell_type": "code",
   "execution_count": 21,
   "metadata": {},
   "outputs": [],
   "source": [
    "#second order\n",
    "delta2=[]\n",
    "for i in range(0,len(eigens)):\n",
    "    summa=[]\n",
    "    for j in range(0,len(eigens)):\n",
    "        if i!=j:\n",
    "            value=sympy.simplify(((Matrix(eigens[j][-1])).T*coupling_rwa*(Matrix(eigens[i][-1])))**2)/(eigens[i][0]-\n",
    "                                                                                                      eigens[j][0])\n",
    "            summa.append(value[0])\n",
    "    delta2.append(sum(summa))"
   ]
  },
  {
   "cell_type": "code",
   "execution_count": 31,
   "metadata": {},
   "outputs": [
    {
     "data": {
      "image/png": "[encoded data removed]",
      "text/latex": [
       "$$\\left [ 0, \\quad \\frac{1.0 g1c^{2}}{\\omega_{1} - \\omega_{c}} + \\omega_{1}, \\quad \\frac{1.0 g2c^{2}}{\\omega_{2} - \\omega_{c}} + \\omega_{2}, \\quad \\frac{1.0 g1c^{2}}{- \\omega_{1} + \\omega_{c}} + \\frac{1.0 g2c^{2}}{- \\omega_{2} + \\omega_{c}} + \\omega_{c}, \\quad \\alpha_{1} + \\frac{2.0 g1c^{2}}{\\alpha_{1} + 1.0 \\omega_{1} - \\omega_{c}} + 2.0 \\omega_{1}, \\quad \\alpha_{2} + \\frac{2.0 g2c^{2}}{\\alpha_{2} + 1.0 \\omega_{2} - \\omega_{c}} + 2.0 \\omega_{2}, \\quad \\alpha_{c} + \\frac{2.0 g1c^{2}}{\\alpha_{c} - \\omega_{1} + 1.0 \\omega_{c}} + \\frac{2.0 g2c^{2}}{\\alpha_{c} - \\omega_{2} + 1.0 \\omega_{c}} + 2.0 \\omega_{c}, \\quad \\frac{1.0 g1c^{2}}{\\omega_{1} - \\omega_{c}} + \\frac{1.0 g2c^{2}}{\\omega_{2} - \\omega_{c}} + \\omega_{1} + \\omega_{2}, \\quad \\frac{2.0 g1c^{2}}{- \\alpha_{c} + \\omega_{1} - 1.0 \\omega_{c}} + \\frac{2.0 g1c^{2}}{- \\alpha_{1} - 1.0 \\omega_{1} + \\omega_{c}} + \\frac{1.0 g2c^{2}}{- \\omega_{2} + \\omega_{c}} + \\omega_{1} + \\omega_{c}, \\quad \\frac{1.0 g1c^{2}}{- \\omega_{1} + \\omega_{c}} + \\frac{2.0 g2c^{2}}{- \\alpha_{c} + \\omega_{2} - 1.0 \\omega_{c}} + \\frac{2.0 g2c^{2}}{- \\alpha_{2} - 1.0 \\omega_{2} + \\omega_{c}} + \\omega_{2} + \\omega_{c}, \\quad \\alpha_{1} + \\frac{2.0 g1c^{2}}{\\alpha_{1} + 1.0 \\omega_{1} - \\omega_{c}} + \\frac{1.0 g2c^{2}}{\\omega_{2} - \\omega_{c}} + 2.0 \\omega_{1} + \\omega_{2}, \\quad \\alpha_{1} + \\frac{4.0 g1c^{2}}{\\alpha_{1} - \\alpha_{c} + 1.0 \\omega_{1} - 1.0 \\omega_{c}} + \\frac{1.0 g2c^{2}}{- \\omega_{2} + \\omega_{c}} + 2.0 \\omega_{1} + \\omega_{c}, \\quad \\alpha_{2} + \\frac{1.0 g1c^{2}}{\\omega_{1} - \\omega_{c}} + \\frac{2.0 g2c^{2}}{\\alpha_{2} + 1.0 \\omega_{2} - \\omega_{c}} + \\omega_{1} + 2.0 \\omega_{2}, \\quad \\alpha_{2} + \\frac{1.0 g1c^{2}}{- \\omega_{1} + \\omega_{c}} + \\frac{4.0 g2c^{2}}{\\alpha_{2} - \\alpha_{c} + 1.0 \\omega_{2} - 1.0 \\omega_{c}} + 2.0 \\omega_{2} + \\omega_{c}, \\quad \\alpha_{c} + \\frac{4.0 g1c^{2}}{- \\alpha_{1} + \\alpha_{c} - 1.0 \\omega_{1} + 1.0 \\omega_{c}} + \\frac{2.0 g2c^{2}}{\\alpha_{c} - \\omega_{2} + 1.0 \\omega_{c}} + \\omega_{1} + 2.0 \\omega_{c}, \\quad \\alpha_{c} + \\frac{2.0 g1c^{2}}{\\alpha_{c} - \\omega_{1} + 1.0 \\omega_{c}} + \\frac{4.0 g2c^{2}}{- \\alpha_{2} + \\alpha_{c} - 1.0 \\omega_{2} + 1.0 \\omega_{c}} + \\omega_{2} + 2.0 \\omega_{c}, \\quad \\frac{2.0 g1c^{2}}{- \\alpha_{c} + \\omega_{1} - 1.0 \\omega_{c}} + \\frac{2.0 g1c^{2}}{- \\alpha_{1} - 1.0 \\omega_{1} + \\omega_{c}} + \\frac{2.0 g2c^{2}}{- \\alpha_{c} + \\omega_{2} - 1.0 \\omega_{c}} + \\frac{2.0 g2c^{2}}{- \\alpha_{2} - 1.0 \\omega_{2} + \\omega_{c}} + \\omega_{1} + \\omega_{2} + \\omega_{c}, \\quad \\alpha_{1} + \\alpha_{2} + \\frac{2.0 g1c^{2}}{\\alpha_{1} + 1.0 \\omega_{1} - \\omega_{c}} + \\frac{2.0 g2c^{2}}{\\alpha_{2} + 1.0 \\omega_{2} - \\omega_{c}} + 2.0 \\omega_{1} + 2.0 \\omega_{2}, \\quad \\alpha_{1} + \\alpha_{c} + \\frac{2.0 g2c^{2}}{\\alpha_{c} - \\omega_{2} + 1.0 \\omega_{c}} + 2.0 \\omega_{1} + 2.0 \\omega_{c}, \\quad \\alpha_{1} + \\frac{4.0 g1c^{2}}{\\alpha_{1} - \\alpha_{c} + 1.0 \\omega_{1} - 1.0 \\omega_{c}} + \\frac{2.0 g2c^{2}}{- \\alpha_{c} + \\omega_{2} - 1.0 \\omega_{c}} + \\frac{2.0 g2c^{2}}{- \\alpha_{2} - 1.0 \\omega_{2} + \\omega_{c}} + 2.0 \\omega_{1} + \\omega_{2} + \\omega_{c}, \\quad \\alpha_{2} + \\alpha_{c} + \\frac{2.0 g1c^{2}}{\\alpha_{c} - \\omega_{1} + 1.0 \\omega_{c}} + 2.0 \\omega_{2} + 2.0 \\omega_{c}, \\quad \\alpha_{2} + \\frac{2.0 g1c^{2}}{- \\alpha_{c} + \\omega_{1} - 1.0 \\omega_{c}} + \\frac{2.0 g1c^{2}}{- \\alpha_{1} - 1.0 \\omega_{1} + \\omega_{c}} + \\frac{4.0 g2c^{2}}{\\alpha_{2} - \\alpha_{c} + 1.0 \\omega_{2} - 1.0 \\omega_{c}} + \\omega_{1} + 2.0 \\omega_{2} + \\omega_{c}, \\quad \\alpha_{c} + \\frac{4.0 g1c^{2}}{- \\alpha_{1} + \\alpha_{c} - 1.0 \\omega_{1} + 1.0 \\omega_{c}} + \\frac{4.0 g2c^{2}}{- \\alpha_{2} + \\alpha_{c} - 1.0 \\omega_{2} + 1.0 \\omega_{c}} + \\omega_{1} + \\omega_{2} + 2.0 \\omega_{c}, \\quad \\alpha_{1} + \\alpha_{2} + \\frac{4.0 g1c^{2}}{\\alpha_{1} - \\alpha_{c} + 1.0 \\omega_{1} - 1.0 \\omega_{c}} + \\frac{4.0 g2c^{2}}{\\alpha_{2} - \\alpha_{c} + 1.0 \\omega_{2} - 1.0 \\omega_{c}} + 2.0 \\omega_{1} + 2.0 \\omega_{2} + \\omega_{c}, \\quad \\alpha_{1} + \\alpha_{c} + \\frac{4.0 g2c^{2}}{- \\alpha_{2} + \\alpha_{c} - 1.0 \\omega_{2} + 1.0 \\omega_{c}} + 2.0 \\omega_{1} + \\omega_{2} + 2.0 \\omega_{c}, \\quad \\alpha_{2} + \\alpha_{c} + \\frac{4.0 g1c^{2}}{- \\alpha_{1} + \\alpha_{c} - 1.0 \\omega_{1} + 1.0 \\omega_{c}} + \\omega_{1} + 2.0 \\omega_{2} + 2.0 \\omega_{c}, \\quad \\alpha_{1} + \\alpha_{2} + \\alpha_{c} + 2.0 \\omega_{1} + 2.0 \\omega_{2} + 2.0 \\omega_{c}\\right ]$$"
      ],
      "text/plain": [
       "⎡          2              2               2           2                       \n",
       "⎢   1.0⋅g1c        1.0⋅g2c         1.0⋅g1c     1.0⋅g2c                   2.0⋅g\n",
       "⎢0, ──────── + ω₁, ──────── + ω₂, ───────── + ───────── + ω_c, α₁ + ──────────\n",
       "⎣   ω₁ - ω_c       ω₂ - ω_c       -ω₁ + ω_c   -ω₂ + ω_c             α₁ + 1.0⋅ω\n",
       "\n",
       "  2                                2                                 2        \n",
       "1c                          2.0⋅g2c                           2.0⋅g1c         \n",
       "─────── + 2.0⋅ω₁, α₂ + ───────────────── + 2.0⋅ω₂, α_c + ────────────────── + \n",
       "₁ - ω_c                α₂ + 1.0⋅ω₂ - ω_c                 α_c - ω₁ + 1.0⋅ω_c   \n",
       "\n",
       "            2                        2          2                         2   \n",
       "     2.0⋅g2c                  1.0⋅g1c    1.0⋅g2c                   2.0⋅g1c    \n",
       "────────────────── + 2.0⋅ω_c, ──────── + ──────── + ω₁ + ω₂, ─────────────────\n",
       "α_c - ω₂ + 1.0⋅ω_c            ω₁ - ω_c   ω₂ - ω_c            -α_c + ω₁ - 1.0⋅ω\n",
       "\n",
       "                 2                2                     2                2    \n",
       "          2.0⋅g1c          1.0⋅g2c               1.0⋅g1c          2.0⋅g2c     \n",
       "── + ────────────────── + ───────── + ω₁ + ω_c, ───────── + ──────────────────\n",
       "_c   -α₁ - 1.0⋅ω₁ + ω_c   -ω₂ + ω_c             -ω₁ + ω_c   -α_c + ω₂ - 1.0⋅ω_\n",
       "\n",
       "                2                                   2              2          \n",
       "         2.0⋅g2c                             2.0⋅g1c        1.0⋅g2c           \n",
       "─ + ────────────────── + ω₂ + ω_c, α₁ + ───────────────── + ──────── + 2.0⋅ω₁ \n",
       "c   -α₂ - 1.0⋅ω₂ + ω_c                  α₁ + 1.0⋅ω₁ - ω_c   ω₂ - ω_c          \n",
       "\n",
       "                            2                    2                            \n",
       "                     4.0⋅g1c              1.0⋅g2c                       1.0⋅g1\n",
       "+ ω₂, α₁ + ─────────────────────────── + ───────── + 2.0⋅ω₁ + ω_c, α₂ + ──────\n",
       "           α₁ - α_c + 1.0⋅ω₁ - 1.0⋅ω_c   -ω₂ + ω_c                      ω₁ - ω\n",
       "\n",
       " 2               2                                 2                    2     \n",
       "c         2.0⋅g2c                           1.0⋅g1c              4.0⋅g2c      \n",
       "── + ───────────────── + ω₁ + 2.0⋅ω₂, α₂ + ───────── + ───────────────────────\n",
       "_c   α₂ + 1.0⋅ω₂ - ω_c                     -ω₁ + ω_c   α₂ - α_c + 1.0⋅ω₂ - 1.0\n",
       "\n",
       "                                            2                         2       \n",
       "                                     4.0⋅g1c                   2.0⋅g2c        \n",
       "──── + 2.0⋅ω₂ + ω_c, α_c + ──────────────────────────── + ────────────────── +\n",
       "⋅ω_c                       -α₁ + α_c - 1.0⋅ω₁ + 1.0⋅ω_c   α_c - ω₂ + 1.0⋅ω_c  \n",
       "\n",
       "                                 2                         2                  \n",
       "                          2.0⋅g1c                   4.0⋅g2c                   \n",
       " ω₁ + 2.0⋅ω_c, α_c + ────────────────── + ──────────────────────────── + ω₂ + \n",
       "                     α_c - ω₁ + 1.0⋅ω_c   -α₂ + α_c - 1.0⋅ω₂ + 1.0⋅ω_c        \n",
       "\n",
       "                      2                    2                     2            \n",
       "               2.0⋅g1c              2.0⋅g1c               2.0⋅g2c             \n",
       "2.0⋅ω_c, ─────────────────── + ────────────────── + ─────────────────── + ────\n",
       "         -α_c + ω₁ - 1.0⋅ω_c   -α₁ - 1.0⋅ω₁ + ω_c   -α_c + ω₂ - 1.0⋅ω_c   -α₂ \n",
       "\n",
       "        2                                             2                   2   \n",
       " 2.0⋅g2c                                       2.0⋅g1c             2.0⋅g2c    \n",
       "────────────── + ω₁ + ω₂ + ω_c, α₁ + α₂ + ───────────────── + ────────────────\n",
       "- 1.0⋅ω₂ + ω_c                            α₁ + 1.0⋅ω₁ - ω_c   α₂ + 1.0⋅ω₂ - ω_\n",
       "\n",
       "                                            2                                 \n",
       "                                     2.0⋅g2c                                  \n",
       "─ + 2.0⋅ω₁ + 2.0⋅ω₂, α₁ + α_c + ────────────────── + 2.0⋅ω₁ + 2.0⋅ω_c, α₁ + ──\n",
       "c                               α_c - ω₂ + 1.0⋅ω_c                          α₁\n",
       "\n",
       "               2                         2                    2               \n",
       "        4.0⋅g1c                   2.0⋅g2c              2.0⋅g2c                \n",
       "───────────────────────── + ─────────────────── + ────────────────── + 2.0⋅ω₁ \n",
       " - α_c + 1.0⋅ω₁ - 1.0⋅ω_c   -α_c + ω₂ - 1.0⋅ω_c   -α₂ - 1.0⋅ω₂ + ω_c          \n",
       "\n",
       "                                   2                                          \n",
       "                            2.0⋅g1c                                      2.0⋅g\n",
       "+ ω₂ + ω_c, α₂ + α_c + ────────────────── + 2.0⋅ω₂ + 2.0⋅ω_c, α₂ + ───────────\n",
       "                       α_c - ω₁ + 1.0⋅ω_c                          -α_c + ω₁ -\n",
       "\n",
       "  2                    2                         2                            \n",
       "1c              2.0⋅g1c                   4.0⋅g2c                             \n",
       "──────── + ────────────────── + ─────────────────────────── + ω₁ + 2.0⋅ω₂ + ω_\n",
       " 1.0⋅ω_c   -α₁ - 1.0⋅ω₁ + ω_c   α₂ - α_c + 1.0⋅ω₂ - 1.0⋅ω_c                   \n",
       "\n",
       "                          2                              2                    \n",
       "                   4.0⋅g1c                        4.0⋅g2c                     \n",
       "c, α_c + ──────────────────────────── + ──────────────────────────── + ω₁ + ω₂\n",
       "         -α₁ + α_c - 1.0⋅ω₁ + 1.0⋅ω_c   -α₂ + α_c - 1.0⋅ω₂ + 1.0⋅ω_c          \n",
       "\n",
       "                                       2                             2        \n",
       "                                4.0⋅g1c                       4.0⋅g2c         \n",
       " + 2.0⋅ω_c, α₁ + α₂ + ─────────────────────────── + ──────────────────────────\n",
       "                      α₁ - α_c + 1.0⋅ω₁ - 1.0⋅ω_c   α₂ - α_c + 1.0⋅ω₂ - 1.0⋅ω_\n",
       "\n",
       "                                                       2                      \n",
       "                                                4.0⋅g2c                       \n",
       "─ + 2.0⋅ω₁ + 2.0⋅ω₂ + ω_c, α₁ + α_c + ──────────────────────────── + 2.0⋅ω₁ + \n",
       "c                                     -α₂ + α_c - 1.0⋅ω₂ + 1.0⋅ω_c            \n",
       "\n",
       "                                          2                                   \n",
       "                                   4.0⋅g1c                                    \n",
       "ω₂ + 2.0⋅ω_c, α₂ + α_c + ──────────────────────────── + ω₁ + 2.0⋅ω₂ + 2.0⋅ω_c,\n",
       "                         -α₁ + α_c - 1.0⋅ω₁ + 1.0⋅ω_c                         \n",
       "\n",
       "                                          ⎤\n",
       "                                          ⎥\n",
       " α₁ + α₂ + α_c + 2.0⋅ω₁ + 2.0⋅ω₂ + 2.0⋅ω_c⎥\n",
       "                                          ⎦"
      ]
     },
     "execution_count": 31,
     "metadata": {},
     "output_type": "execute_result"
    }
   ],
   "source": [
    "evals_second_order=[eigens[i][0]+delta2[i] for i in range(len(eigens))]\n",
    "evals_second_order"
   ]
  },
  {
   "cell_type": "code",
   "execution_count": 33,
   "metadata": {},
   "outputs": [
    {
     "data": {
      "image/png": "[encoded data removed]",
      "text/latex": [
       "$$\\left[\\begin{matrix}0\\\\\\frac{1.0 g1c^{2}}{\\omega_{1} - \\omega_{c}} + \\omega_{1}\\\\\\frac{1.0 g2c^{2}}{\\omega_{2} - \\omega_{c}} + \\omega_{2}\\\\\\frac{1.0 g1c^{2}}{- \\omega_{1} + \\omega_{c}} + \\frac{1.0 g2c^{2}}{- \\omega_{2} + \\omega_{c}} + \\omega_{c}\\\\\\alpha_{1} + \\frac{2.0 g1c^{2}}{\\alpha_{1} + 1.0 \\omega_{1} - \\omega_{c}} + 2.0 \\omega_{1}\\\\\\alpha_{2} + \\frac{2.0 g2c^{2}}{\\alpha_{2} + 1.0 \\omega_{2} - \\omega_{c}} + 2.0 \\omega_{2}\\\\\\alpha_{c} + \\frac{2.0 g1c^{2}}{\\alpha_{c} - \\omega_{1} + 1.0 \\omega_{c}} + \\frac{2.0 g2c^{2}}{\\alpha_{c} - \\omega_{2} + 1.0 \\omega_{c}} + 2.0 \\omega_{c}\\\\\\frac{1.0 g1c^{2}}{\\omega_{1} - \\omega_{c}} + \\frac{1.0 g2c^{2}}{\\omega_{2} - \\omega_{c}} + \\omega_{1} + \\omega_{2}\\\\\\frac{2.0 g1c^{2}}{- \\alpha_{c} + \\omega_{1} - 1.0 \\omega_{c}} + \\frac{2.0 g1c^{2}}{- \\alpha_{1} - 1.0 \\omega_{1} + \\omega_{c}} + \\frac{1.0 g2c^{2}}{- \\omega_{2} + \\omega_{c}} + \\omega_{1} + \\omega_{c}\\\\\\frac{1.0 g1c^{2}}{- \\omega_{1} + \\omega_{c}} + \\frac{2.0 g2c^{2}}{- \\alpha_{c} + \\omega_{2} - 1.0 \\omega_{c}} + \\frac{2.0 g2c^{2}}{- \\alpha_{2} - 1.0 \\omega_{2} + \\omega_{c}} + \\omega_{2} + \\omega_{c}\\\\\\alpha_{1} + \\frac{2.0 g1c^{2}}{\\alpha_{1} + 1.0 \\omega_{1} - \\omega_{c}} + \\frac{1.0 g2c^{2}}{\\omega_{2} - \\omega_{c}} + 2.0 \\omega_{1} + \\omega_{2}\\\\\\alpha_{1} + \\frac{4.0 g1c^{2}}{\\alpha_{1} - \\alpha_{c} + 1.0 \\omega_{1} - 1.0 \\omega_{c}} + \\frac{1.0 g2c^{2}}{- \\omega_{2} + \\omega_{c}} + 2.0 \\omega_{1} + \\omega_{c}\\\\\\alpha_{2} + \\frac{1.0 g1c^{2}}{\\omega_{1} - \\omega_{c}} + \\frac{2.0 g2c^{2}}{\\alpha_{2} + 1.0 \\omega_{2} - \\omega_{c}} + \\omega_{1} + 2.0 \\omega_{2}\\\\\\alpha_{2} + \\frac{1.0 g1c^{2}}{- \\omega_{1} + \\omega_{c}} + \\frac{4.0 g2c^{2}}{\\alpha_{2} - \\alpha_{c} + 1.0 \\omega_{2} - 1.0 \\omega_{c}} + 2.0 \\omega_{2} + \\omega_{c}\\\\\\alpha_{c} + \\frac{4.0 g1c^{2}}{- \\alpha_{1} + \\alpha_{c} - 1.0 \\omega_{1} + 1.0 \\omega_{c}} + \\frac{2.0 g2c^{2}}{\\alpha_{c} - \\omega_{2} + 1.0 \\omega_{c}} + \\omega_{1} + 2.0 \\omega_{c}\\\\\\alpha_{c} + \\frac{2.0 g1c^{2}}{\\alpha_{c} - \\omega_{1} + 1.0 \\omega_{c}} + \\frac{4.0 g2c^{2}}{- \\alpha_{2} + \\alpha_{c} - 1.0 \\omega_{2} + 1.0 \\omega_{c}} + \\omega_{2} + 2.0 \\omega_{c}\\\\\\frac{2.0 g1c^{2}}{- \\alpha_{c} + \\omega_{1} - 1.0 \\omega_{c}} + \\frac{2.0 g1c^{2}}{- \\alpha_{1} - 1.0 \\omega_{1} + \\omega_{c}} + \\frac{2.0 g2c^{2}}{- \\alpha_{c} + \\omega_{2} - 1.0 \\omega_{c}} + \\frac{2.0 g2c^{2}}{- \\alpha_{2} - 1.0 \\omega_{2} + \\omega_{c}} + \\omega_{1} + \\omega_{2} + \\omega_{c}\\\\\\alpha_{1} + \\alpha_{2} + \\frac{2.0 g1c^{2}}{\\alpha_{1} + 1.0 \\omega_{1} - \\omega_{c}} + \\frac{2.0 g2c^{2}}{\\alpha_{2} + 1.0 \\omega_{2} - \\omega_{c}} + 2.0 \\omega_{1} + 2.0 \\omega_{2}\\\\\\alpha_{1} + \\alpha_{c} + \\frac{2.0 g2c^{2}}{\\alpha_{c} - \\omega_{2} + 1.0 \\omega_{c}} + 2.0 \\omega_{1} + 2.0 \\omega_{c}\\\\\\alpha_{1} + \\frac{4.0 g1c^{2}}{\\alpha_{1} - \\alpha_{c} + 1.0 \\omega_{1} - 1.0 \\omega_{c}} + \\frac{2.0 g2c^{2}}{- \\alpha_{c} + \\omega_{2} - 1.0 \\omega_{c}} + \\frac{2.0 g2c^{2}}{- \\alpha_{2} - 1.0 \\omega_{2} + \\omega_{c}} + 2.0 \\omega_{1} + \\omega_{2} + \\omega_{c}\\\\\\alpha_{2} + \\alpha_{c} + \\frac{2.0 g1c^{2}}{\\alpha_{c} - \\omega_{1} + 1.0 \\omega_{c}} + 2.0 \\omega_{2} + 2.0 \\omega_{c}\\\\\\alpha_{2} + \\frac{2.0 g1c^{2}}{- \\alpha_{c} + \\omega_{1} - 1.0 \\omega_{c}} + \\frac{2.0 g1c^{2}}{- \\alpha_{1} - 1.0 \\omega_{1} + \\omega_{c}} + \\frac{4.0 g2c^{2}}{\\alpha_{2} - \\alpha_{c} + 1.0 \\omega_{2} - 1.0 \\omega_{c}} + \\omega_{1} + 2.0 \\omega_{2} + \\omega_{c}\\\\\\alpha_{c} + \\frac{4.0 g1c^{2}}{- \\alpha_{1} + \\alpha_{c} - 1.0 \\omega_{1} + 1.0 \\omega_{c}} + \\frac{4.0 g2c^{2}}{- \\alpha_{2} + \\alpha_{c} - 1.0 \\omega_{2} + 1.0 \\omega_{c}} + \\omega_{1} + \\omega_{2} + 2.0 \\omega_{c}\\\\\\alpha_{1} + \\alpha_{2} + \\frac{4.0 g1c^{2}}{\\alpha_{1} - \\alpha_{c} + 1.0 \\omega_{1} - 1.0 \\omega_{c}} + \\frac{4.0 g2c^{2}}{\\alpha_{2} - \\alpha_{c} + 1.0 \\omega_{2} - 1.0 \\omega_{c}} + 2.0 \\omega_{1} + 2.0 \\omega_{2} + \\omega_{c}\\\\\\alpha_{1} + \\alpha_{c} + \\frac{4.0 g2c^{2}}{- \\alpha_{2} + \\alpha_{c} - 1.0 \\omega_{2} + 1.0 \\omega_{c}} + 2.0 \\omega_{1} + \\omega_{2} + 2.0 \\omega_{c}\\\\\\alpha_{2} + \\alpha_{c} + \\frac{4.0 g1c^{2}}{- \\alpha_{1} + \\alpha_{c} - 1.0 \\omega_{1} + 1.0 \\omega_{c}} + \\omega_{1} + 2.0 \\omega_{2} + 2.0 \\omega_{c}\\\\\\alpha_{1} + \\alpha_{2} + \\alpha_{c} + 2.0 \\omega_{1} + 2.0 \\omega_{2} + 2.0 \\omega_{c}\\end{matrix}\\right]$$"
      ],
      "text/plain": [
       "⎡                                                 0                           \n",
       "⎢                                                                             \n",
       "⎢                                                  2                          \n",
       "⎢                                           1.0⋅g1c                           \n",
       "⎢                                           ──────── + ω₁                     \n",
       "⎢                                           ω₁ - ω_c                          \n",
       "⎢                                                                             \n",
       "⎢                                                  2                          \n",
       "⎢                                           1.0⋅g2c                           \n",
       "⎢                                           ──────── + ω₂                     \n",
       "⎢                                           ω₂ - ω_c                          \n",
       "⎢                                                                             \n",
       "⎢                                            2           2                    \n",
       "⎢                                     1.0⋅g1c     1.0⋅g2c                     \n",
       "⎢                                    ───────── + ───────── + ω_c              \n",
       "⎢                                    -ω₁ + ω_c   -ω₂ + ω_c                    \n",
       "⎢                                                                             \n",
       "⎢                                                   2                         \n",
       "⎢                                            2.0⋅g1c                          \n",
       "⎢                                  α₁ + ───────────────── + 2.0⋅ω₁            \n",
       "⎢                                       α₁ + 1.0⋅ω₁ - ω_c                     \n",
       "⎢                                                                             \n",
       "⎢                                                   2                         \n",
       "⎢                                            2.0⋅g2c                          \n",
       "⎢                                  α₂ + ───────────────── + 2.0⋅ω₂            \n",
       "⎢                                       α₂ + 1.0⋅ω₂ - ω_c                     \n",
       "⎢                                                                             \n",
       "⎢                                        2                    2               \n",
       "⎢                                 2.0⋅g1c              2.0⋅g2c                \n",
       "⎢                      α_c + ────────────────── + ────────────────── + 2.0⋅ω_c\n",
       "⎢                            α_c - ω₁ + 1.0⋅ω_c   α_c - ω₂ + 1.0⋅ω_c          \n",
       "⎢                                                                             \n",
       "⎢                                          2          2                       \n",
       "⎢                                   1.0⋅g1c    1.0⋅g2c                        \n",
       "⎢                                   ──────── + ──────── + ω₁ + ω₂             \n",
       "⎢                                   ω₁ - ω_c   ω₂ - ω_c                       \n",
       "⎢                                                                             \n",
       "⎢                               2                    2                2       \n",
       "⎢                        2.0⋅g1c              2.0⋅g1c          1.0⋅g2c        \n",
       "⎢                  ─────────────────── + ────────────────── + ───────── + ω₁ +\n",
       "⎢                  -α_c + ω₁ - 1.0⋅ω_c   -α₁ - 1.0⋅ω₁ + ω_c   -ω₂ + ω_c       \n",
       "⎢                                                                             \n",
       "⎢                          2                2                    2            \n",
       "⎢                   1.0⋅g1c          2.0⋅g2c              2.0⋅g2c             \n",
       "⎢                  ───────── + ─────────────────── + ────────────────── + ω₂ +\n",
       "⎢                  -ω₁ + ω_c   -α_c + ω₂ - 1.0⋅ω_c   -α₂ - 1.0⋅ω₂ + ω_c       \n",
       "⎢                                                                             \n",
       "⎢                                           2              2                  \n",
       "⎢                                    2.0⋅g1c        1.0⋅g2c                   \n",
       "⎢                          α₁ + ───────────────── + ──────── + 2.0⋅ω₁ + ω₂    \n",
       "⎢                               α₁ + 1.0⋅ω₁ - ω_c   ω₂ - ω_c                  \n",
       "⎢                                                                             \n",
       "⎢                                          2                    2             \n",
       "⎢                                   4.0⋅g1c              1.0⋅g2c              \n",
       "⎢                    α₁ + ─────────────────────────── + ───────── + 2.0⋅ω₁ + ω\n",
       "⎢                         α₁ - α_c + 1.0⋅ω₁ - 1.0⋅ω_c   -ω₂ + ω_c             \n",
       "⎢                                                                             \n",
       "⎢                                      2               2                      \n",
       "⎢                               1.0⋅g1c         2.0⋅g2c                       \n",
       "⎢                          α₂ + ──────── + ───────────────── + ω₁ + 2.0⋅ω₂    \n",
       "⎢                               ω₁ - ω_c   α₂ + 1.0⋅ω₂ - ω_c                  \n",
       "⎢                                                                             \n",
       "⎢                                 2                    2                      \n",
       "⎢                          1.0⋅g1c              4.0⋅g2c                       \n",
       "⎢                    α₂ + ───────── + ─────────────────────────── + 2.0⋅ω₂ + ω\n",
       "⎢                         -ω₁ + ω_c   α₂ - α_c + 1.0⋅ω₂ - 1.0⋅ω_c             \n",
       "⎢                                                                             \n",
       "⎢                                     2                         2             \n",
       "⎢                              4.0⋅g1c                   2.0⋅g2c              \n",
       "⎢              α_c + ──────────────────────────── + ────────────────── + ω₁ + \n",
       "⎢                    -α₁ + α_c - 1.0⋅ω₁ + 1.0⋅ω_c   α_c - ω₂ + 1.0⋅ω_c        \n",
       "⎢                                                                             \n",
       "⎢                                2                         2                  \n",
       "⎢                         2.0⋅g1c                   4.0⋅g2c                   \n",
       "⎢              α_c + ────────────────── + ──────────────────────────── + ω₂ + \n",
       "⎢                    α_c - ω₁ + 1.0⋅ω_c   -α₂ + α_c - 1.0⋅ω₂ + 1.0⋅ω_c        \n",
       "⎢                                                                             \n",
       "⎢             2                    2                     2                    \n",
       "⎢      2.0⋅g1c              2.0⋅g1c               2.0⋅g2c              2.0⋅g2c\n",
       "⎢─────────────────── + ────────────────── + ─────────────────── + ────────────\n",
       "⎢-α_c + ω₁ - 1.0⋅ω_c   -α₁ - 1.0⋅ω₁ + ω_c   -α_c + ω₂ - 1.0⋅ω_c   -α₂ - 1.0⋅ω₂\n",
       "⎢                                                                             \n",
       "⎢                                       2                   2                 \n",
       "⎢                                2.0⋅g1c             2.0⋅g2c                  \n",
       "⎢                 α₁ + α₂ + ───────────────── + ───────────────── + 2.0⋅ω₁ + 2\n",
       "⎢                           α₁ + 1.0⋅ω₁ - ω_c   α₂ + 1.0⋅ω₂ - ω_c             \n",
       "⎢                                                                             \n",
       "⎢                                                2                            \n",
       "⎢                                         2.0⋅g2c                             \n",
       "⎢                         α₁ + α_c + ────────────────── + 2.0⋅ω₁ + 2.0⋅ω_c    \n",
       "⎢                                    α_c - ω₂ + 1.0⋅ω_c                       \n",
       "⎢                                                                             \n",
       "⎢                        2                         2                    2     \n",
       "⎢                 4.0⋅g1c                   2.0⋅g2c              2.0⋅g2c      \n",
       "⎢  α₁ + ─────────────────────────── + ─────────────────── + ──────────────────\n",
       "⎢       α₁ - α_c + 1.0⋅ω₁ - 1.0⋅ω_c   -α_c + ω₂ - 1.0⋅ω_c   -α₂ - 1.0⋅ω₂ + ω_c\n",
       "⎢                                                                             \n",
       "⎢                                                2                            \n",
       "⎢                                         2.0⋅g1c                             \n",
       "⎢                         α₂ + α_c + ────────────────── + 2.0⋅ω₂ + 2.0⋅ω_c    \n",
       "⎢                                    α_c - ω₁ + 1.0⋅ω_c                       \n",
       "⎢                                                                             \n",
       "⎢                    2                    2                         2         \n",
       "⎢             2.0⋅g1c              2.0⋅g1c                   4.0⋅g2c          \n",
       "⎢  α₂ + ─────────────────── + ────────────────── + ───────────────────────────\n",
       "⎢       -α_c + ω₁ - 1.0⋅ω_c   -α₁ - 1.0⋅ω₁ + ω_c   α₂ - α_c + 1.0⋅ω₂ - 1.0⋅ω_c\n",
       "⎢                                                                             \n",
       "⎢                              2                              2               \n",
       "⎢                       4.0⋅g1c                        4.0⋅g2c                \n",
       "⎢       α_c + ──────────────────────────── + ──────────────────────────── + ω₁\n",
       "⎢             -α₁ + α_c - 1.0⋅ω₁ + 1.0⋅ω_c   -α₂ + α_c - 1.0⋅ω₂ + 1.0⋅ω_c     \n",
       "⎢                                                                             \n",
       "⎢                               2                             2               \n",
       "⎢                        4.0⋅g1c                       4.0⋅g2c                \n",
       "⎢    α₁ + α₂ + ─────────────────────────── + ─────────────────────────── + 2.0\n",
       "⎢              α₁ - α_c + 1.0⋅ω₁ - 1.0⋅ω_c   α₂ - α_c + 1.0⋅ω₂ - 1.0⋅ω_c      \n",
       "⎢                                                                             \n",
       "⎢                                              2                              \n",
       "⎢                                       4.0⋅g2c                               \n",
       "⎢                  α₁ + α_c + ──────────────────────────── + 2.0⋅ω₁ + ω₂ + 2.0\n",
       "⎢                             -α₂ + α_c - 1.0⋅ω₂ + 1.0⋅ω_c                    \n",
       "⎢                                                                             \n",
       "⎢                                              2                              \n",
       "⎢                                       4.0⋅g1c                               \n",
       "⎢                  α₂ + α_c + ──────────────────────────── + ω₁ + 2.0⋅ω₂ + 2.0\n",
       "⎢                             -α₁ + α_c - 1.0⋅ω₁ + 1.0⋅ω_c                    \n",
       "⎢                                                                             \n",
       "⎣                             α₁ + α₂ + α_c + 2.0⋅ω₁ + 2.0⋅ω₂ + 2.0⋅ω_c       \n",
       "\n",
       "                      ⎤\n",
       "                      ⎥\n",
       "                      ⎥\n",
       "                      ⎥\n",
       "                      ⎥\n",
       "                      ⎥\n",
       "                      ⎥\n",
       "                      ⎥\n",
       "                      ⎥\n",
       "                      ⎥\n",
       "                      ⎥\n",
       "                      ⎥\n",
       "                      ⎥\n",
       "                      ⎥\n",
       "                      ⎥\n",
       "                      ⎥\n",
       "                      ⎥\n",
       "                      ⎥\n",
       "                      ⎥\n",
       "                      ⎥\n",
       "                      ⎥\n",
       "                      ⎥\n",
       "                      ⎥\n",
       "                      ⎥\n",
       "                      ⎥\n",
       "                      ⎥\n",
       "                      ⎥\n",
       "                      ⎥\n",
       "                      ⎥\n",
       "                      ⎥\n",
       "                      ⎥\n",
       "                      ⎥\n",
       "                      ⎥\n",
       "                      ⎥\n",
       "                      ⎥\n",
       "                      ⎥\n",
       "                      ⎥\n",
       "                      ⎥\n",
       "                      ⎥\n",
       " ω_c                  ⎥\n",
       "                      ⎥\n",
       "                      ⎥\n",
       "                      ⎥\n",
       "                      ⎥\n",
       " ω_c                  ⎥\n",
       "                      ⎥\n",
       "                      ⎥\n",
       "                      ⎥\n",
       "                      ⎥\n",
       "                      ⎥\n",
       "                      ⎥\n",
       "                      ⎥\n",
       "                      ⎥\n",
       "                      ⎥\n",
       "_c                    ⎥\n",
       "                      ⎥\n",
       "                      ⎥\n",
       "                      ⎥\n",
       "                      ⎥\n",
       "                      ⎥\n",
       "                      ⎥\n",
       "                      ⎥\n",
       "                      ⎥\n",
       "                      ⎥\n",
       "_c                    ⎥\n",
       "                      ⎥\n",
       "                      ⎥\n",
       "                      ⎥\n",
       "                      ⎥\n",
       "2.0⋅ω_c               ⎥\n",
       "                      ⎥\n",
       "                      ⎥\n",
       "                      ⎥\n",
       "                      ⎥\n",
       "2.0⋅ω_c               ⎥\n",
       "                      ⎥\n",
       "                      ⎥\n",
       "2                     ⎥\n",
       "                      ⎥\n",
       "────── + ω₁ + ω₂ + ω_c⎥\n",
       " + ω_c                ⎥\n",
       "                      ⎥\n",
       "                      ⎥\n",
       "                      ⎥\n",
       ".0⋅ω₂                 ⎥\n",
       "                      ⎥\n",
       "                      ⎥\n",
       "                      ⎥\n",
       "                      ⎥\n",
       "                      ⎥\n",
       "                      ⎥\n",
       "                      ⎥\n",
       "                      ⎥\n",
       "                      ⎥\n",
       " + 2.0⋅ω₁ + ω₂ + ω_c  ⎥\n",
       "                      ⎥\n",
       "                      ⎥\n",
       "                      ⎥\n",
       "                      ⎥\n",
       "                      ⎥\n",
       "                      ⎥\n",
       "                      ⎥\n",
       "                      ⎥\n",
       "                      ⎥\n",
       " + ω₁ + 2.0⋅ω₂ + ω_c  ⎥\n",
       "                      ⎥\n",
       "                      ⎥\n",
       "                      ⎥\n",
       "                      ⎥\n",
       " + ω₂ + 2.0⋅ω_c       ⎥\n",
       "                      ⎥\n",
       "                      ⎥\n",
       "                      ⎥\n",
       "                      ⎥\n",
       "⋅ω₁ + 2.0⋅ω₂ + ω_c    ⎥\n",
       "                      ⎥\n",
       "                      ⎥\n",
       "                      ⎥\n",
       "                      ⎥\n",
       "⋅ω_c                  ⎥\n",
       "                      ⎥\n",
       "                      ⎥\n",
       "                      ⎥\n",
       "                      ⎥\n",
       "⋅ω_c                  ⎥\n",
       "                      ⎥\n",
       "                      ⎥\n",
       "                      ⎦"
      ]
     },
     "execution_count": 33,
     "metadata": {},
     "output_type": "execute_result"
    }
   ],
   "source": [
    "sympy.diag(evals_second_order)"
   ]
  },
  {
   "cell_type": "code",
   "execution_count": 41,
   "metadata": {},
   "outputs": [
    {
     "name": "stderr",
     "output_type": "stream",
     "text": [
      "\r",
      "  0%|                                                                                           | 0/27 [00:00<?, ?it/s]"
     ]
    },
    {
     "name": "stdout",
     "output_type": "stream",
     "text": [
      "0 0\n"
     ]
    },
    {
     "name": "stderr",
     "output_type": "stream",
     "text": [
      "\r",
      "  4%|███                                                                                | 1/27 [00:03<01:23,  3.20s/it]"
     ]
    },
    {
     "name": "stdout",
     "output_type": "stream",
     "text": [
      "0 0\n"
     ]
    },
    {
     "name": "stderr",
     "output_type": "stream",
     "text": [
      "\r",
      "  7%|██████▏                                                                            | 2/27 [00:06<01:21,  3.27s/it]"
     ]
    },
    {
     "name": "stdout",
     "output_type": "stream",
     "text": [
      "0 0\n"
     ]
    },
    {
     "name": "stderr",
     "output_type": "stream",
     "text": [
      "\r",
      " 11%|█████████▏                                                                         | 3/27 [00:09<01:18,  3.27s/it]"
     ]
    },
    {
     "name": "stdout",
     "output_type": "stream",
     "text": [
      "0 0\n"
     ]
    },
    {
     "name": "stderr",
     "output_type": "stream",
     "text": [
      "\r",
      " 15%|████████████▎                                                                      | 4/27 [00:13<01:20,  3.49s/it]"
     ]
    },
    {
     "name": "stdout",
     "output_type": "stream",
     "text": [
      "0 0\n"
     ]
    },
    {
     "name": "stderr",
     "output_type": "stream",
     "text": [
      "\r",
      " 19%|███████████████▎                                                                   | 5/27 [00:17<01:14,  3.40s/it]"
     ]
    },
    {
     "name": "stdout",
     "output_type": "stream",
     "text": [
      "0 0\n"
     ]
    },
    {
     "name": "stderr",
     "output_type": "stream",
     "text": [
      "\r",
      " 22%|██████████████████▍                                                                | 6/27 [00:20<01:10,  3.36s/it]"
     ]
    },
    {
     "name": "stdout",
     "output_type": "stream",
     "text": [
      "0 0\n"
     ]
    },
    {
     "name": "stderr",
     "output_type": "stream",
     "text": [
      "\r",
      " 26%|█████████████████████▌                                                             | 7/27 [00:23<01:06,  3.31s/it]"
     ]
    },
    {
     "name": "stdout",
     "output_type": "stream",
     "text": [
      "0 0\n"
     ]
    },
    {
     "name": "stderr",
     "output_type": "stream",
     "text": [
      "\r",
      " 30%|████████████████████████▌                                                          | 8/27 [00:26<01:02,  3.29s/it]"
     ]
    },
    {
     "name": "stdout",
     "output_type": "stream",
     "text": [
      "0 0\n"
     ]
    },
    {
     "name": "stderr",
     "output_type": "stream",
     "text": [
      "\r",
      " 33%|███████████████████████████▋                                                       | 9/27 [00:30<01:02,  3.47s/it]"
     ]
    },
    {
     "name": "stdout",
     "output_type": "stream",
     "text": [
      "0 0\n"
     ]
    },
    {
     "name": "stderr",
     "output_type": "stream",
     "text": [
      "\r",
      " 37%|██████████████████████████████▎                                                   | 10/27 [00:34<00:59,  3.51s/it]"
     ]
    },
    {
     "name": "stdout",
     "output_type": "stream",
     "text": [
      "0 0\n"
     ]
    },
    {
     "name": "stderr",
     "output_type": "stream",
     "text": [
      "\r",
      " 41%|█████████████████████████████████▍                                                | 11/27 [00:37<00:55,  3.48s/it]"
     ]
    },
    {
     "name": "stdout",
     "output_type": "stream",
     "text": [
      "0 0\n"
     ]
    },
    {
     "name": "stderr",
     "output_type": "stream",
     "text": [
      "\r",
      " 44%|████████████████████████████████████▍                                             | 12/27 [00:40<00:51,  3.42s/it]"
     ]
    },
    {
     "name": "stdout",
     "output_type": "stream",
     "text": [
      "0 0\n"
     ]
    },
    {
     "name": "stderr",
     "output_type": "stream",
     "text": [
      "\r",
      " 48%|███████████████████████████████████████▍                                          | 13/27 [00:44<00:50,  3.57s/it]"
     ]
    },
    {
     "name": "stdout",
     "output_type": "stream",
     "text": [
      "0 0\n"
     ]
    },
    {
     "name": "stderr",
     "output_type": "stream",
     "text": [
      "\r",
      " 52%|██████████████████████████████████████████▌                                       | 14/27 [00:48<00:45,  3.54s/it]"
     ]
    },
    {
     "name": "stdout",
     "output_type": "stream",
     "text": [
      "0 0\n"
     ]
    },
    {
     "name": "stderr",
     "output_type": "stream",
     "text": [
      "\r",
      " 56%|█████████████████████████████████████████████▌                                    | 15/27 [00:51<00:41,  3.43s/it]"
     ]
    },
    {
     "name": "stdout",
     "output_type": "stream",
     "text": [
      "0 0\n"
     ]
    },
    {
     "name": "stderr",
     "output_type": "stream",
     "text": [
      "\r",
      " 59%|████████████████████████████████████████████████▌                                 | 16/27 [00:54<00:37,  3.41s/it]"
     ]
    },
    {
     "name": "stdout",
     "output_type": "stream",
     "text": [
      "0 0\n"
     ]
    },
    {
     "name": "stderr",
     "output_type": "stream",
     "text": [
      "\r",
      " 63%|███████████████████████████████████████████████████▋                              | 17/27 [00:58<00:33,  3.40s/it]"
     ]
    },
    {
     "name": "stdout",
     "output_type": "stream",
     "text": [
      "0 0\n"
     ]
    },
    {
     "name": "stderr",
     "output_type": "stream",
     "text": [
      "\r",
      " 67%|██████████████████████████████████████████████████████▋                           | 18/27 [01:01<00:30,  3.39s/it]"
     ]
    },
    {
     "name": "stdout",
     "output_type": "stream",
     "text": [
      "0 0\n"
     ]
    },
    {
     "name": "stderr",
     "output_type": "stream",
     "text": [
      "\r",
      " 70%|█████████████████████████████████████████████████████████▋                        | 19/27 [01:04<00:26,  3.33s/it]"
     ]
    },
    {
     "name": "stdout",
     "output_type": "stream",
     "text": [
      "0 0\n"
     ]
    },
    {
     "name": "stderr",
     "output_type": "stream",
     "text": [
      "\r",
      " 74%|████████████████████████████████████████████████████████████▋                     | 20/27 [01:08<00:22,  3.29s/it]"
     ]
    },
    {
     "name": "stdout",
     "output_type": "stream",
     "text": [
      "0 0\n"
     ]
    },
    {
     "name": "stderr",
     "output_type": "stream",
     "text": [
      "\r",
      " 78%|███████████████████████████████████████████████████████████████▊                  | 21/27 [01:11<00:20,  3.35s/it]"
     ]
    },
    {
     "name": "stdout",
     "output_type": "stream",
     "text": [
      "0 0\n"
     ]
    },
    {
     "name": "stderr",
     "output_type": "stream",
     "text": [
      "\r",
      " 81%|██████████████████████████████████████████████████████████████████▊               | 22/27 [01:14<00:16,  3.32s/it]"
     ]
    },
    {
     "name": "stdout",
     "output_type": "stream",
     "text": [
      "0 0\n"
     ]
    },
    {
     "name": "stderr",
     "output_type": "stream",
     "text": [
      "\r",
      " 85%|█████████████████████████████████████████████████████████████████████▊            | 23/27 [01:17<00:13,  3.29s/it]"
     ]
    },
    {
     "name": "stdout",
     "output_type": "stream",
     "text": [
      "0 0\n"
     ]
    },
    {
     "name": "stderr",
     "output_type": "stream",
     "text": [
      "\r",
      " 89%|████████████████████████████████████████████████████████████████████████▉         | 24/27 [01:21<00:09,  3.26s/it]"
     ]
    },
    {
     "name": "stdout",
     "output_type": "stream",
     "text": [
      "0 0\n"
     ]
    },
    {
     "name": "stderr",
     "output_type": "stream",
     "text": [
      "\r",
      " 93%|███████████████████████████████████████████████████████████████████████████▉      | 25/27 [01:24<00:06,  3.26s/it]"
     ]
    },
    {
     "name": "stdout",
     "output_type": "stream",
     "text": [
      "0 0\n"
     ]
    },
    {
     "name": "stderr",
     "output_type": "stream",
     "text": [
      "\r",
      " 96%|██████████████████████████████████████████████████████████████████████████████▉   | 26/27 [01:27<00:03,  3.23s/it]"
     ]
    },
    {
     "name": "stdout",
     "output_type": "stream",
     "text": [
      "0 0\n"
     ]
    },
    {
     "name": "stderr",
     "output_type": "stream",
     "text": [
      "100%|██████████████████████████████████████████████████████████████████████████████████| 27/27 [01:30<00:00,  3.20s/it]\n"
     ]
    }
   ],
   "source": [
    "from tqdm import tqdm\n",
    "#third order, around 2 minutes\n",
    "#\n",
    "coupling=coupling_nonrwa\n",
    "delta3=[]\n",
    "for i in tqdm(range(0,len(eigens))):\n",
    "    summa = []\n",
    "    for j in range(0,len(eigens)):\n",
    "        if i!=j:\n",
    "            value=(((Matrix(eigens[j][-1])).T*coupling*(Matrix(eigens[i][-1])))/\n",
    "            (eigens[i][0]-eigens[j][0]))**2\n",
    "            summa.append(value[0])\n",
    "    second_sum = (((Matrix(eigens[i][-1])).T*coupling*(Matrix(eigens[i][-1])))*sum(summa))[0]\n",
    "    summa = []\n",
    "    for j in range(0,len(eigens)):\n",
    "        if i!=j:\n",
    "            for k in range(0,len(eigens)):\n",
    "                if i!=k:\n",
    "                    value=((Matrix(eigens[i][-1])).T*coupling*(Matrix(eigens[j][-1])))*\\\n",
    "                    ((Matrix(eigens[j][-1])).T*coupling*(Matrix(eigens[k][-1])))*\\\n",
    "                    ((Matrix(eigens[k][-1])).T*coupling*(Matrix(eigens[i][-1])))/\\\n",
    "                    ((eigens[i][0]-eigens[j][0])*(eigens[i][0]-eigens[k][0]))\n",
    "                    summa.append(value[0]) \n",
    "    first_sum = sum(summa)\n",
    "    print(second_sum,first_sum)\n",
    "    delta3.append(first_sum-second_sum)"
   ]
  },
  {
   "cell_type": "code",
   "execution_count": 19,
   "metadata": {},
   "outputs": [
    {
     "name": "stderr",
     "output_type": "stream",
     "text": [
      "\n",
      "\n",
      "  0%|                                                                                            | 0/3 [00:00<?, ?it/s]"
     ]
    },
    {
     "name": "stdout",
     "output_type": "stream",
     "text": [
      "1.0*g1c**2*g2c**2/((omega_1 - omega_2)*(omega_1 - omega_c)**2)\n"
     ]
    },
    {
     "name": "stderr",
     "output_type": "stream",
     "text": [
      "\n",
      "\n",
      " 33%|███████████████████████████▋                                                       | 1/3 [01:50<03:41, 110.50s/it]"
     ]
    },
    {
     "name": "stdout",
     "output_type": "stream",
     "text": [
      "1.0*g1c**2*g2c**2/((-omega_1 + omega_2)*(omega_2 - omega_c)**2)\n"
     ]
    },
    {
     "name": "stderr",
     "output_type": "stream",
     "text": [
      "\n",
      "\n",
      " 67%|███████████████████████████████████████████████████████▎                           | 2/3 [03:37<01:49, 109.47s/it]"
     ]
    },
    {
     "name": "stdout",
     "output_type": "stream",
     "text": [
      "2.0*g1c**2*g2c**2/((omega_2 - omega_c)**2*(-alpha_c + omega_1 + omega_2 - 2.0*omega_c)) + 2.0*g1c**2*g2c**2/((omega_2 - omega_c)**2*(-alpha_1 - 1.0*omega_1 + omega_2)) + 4.0*g1c**2*g2c**2/((omega_1 - omega_c)*(omega_2 - omega_c)*(-alpha_c + omega_1 + omega_2 - 2.0*omega_c)) + 2.0*g1c**2*g2c**2/((omega_1 - omega_c)**2*(-alpha_c + omega_1 + omega_2 - 2.0*omega_c)) + 2.0*g1c**2*g2c**2/((omega_1 - omega_c)**2*(-alpha_2 + omega_1 - 1.0*omega_2))\n"
     ]
    },
    {
     "name": "stderr",
     "output_type": "stream",
     "text": [
      "\n",
      "\n",
      "100%|███████████████████████████████████████████████████████████████████████████████████| 3/3 [05:26<00:00, 109.29s/it]"
     ]
    }
   ],
   "source": [
    "from tqdm import tqdm\n",
    "#third order, around 2 minutes\n",
    "#\n",
    "coupling=coupling_rwa\n",
    "delta4=[]\n",
    "for i in tqdm([1,2,7]):\n",
    "    summa = []\n",
    "    for k2 in range(0,len(eigens)):\n",
    "        if i!=k2:\n",
    "            for k3 in range(0,len(eigens)):\n",
    "                if i!=k3:\n",
    "                    for k4 in range(0,len(eigens)):\n",
    "                        if i!=k4:\n",
    "                            value = ((Matrix(eigens[i][-1])).T*coupling*(Matrix(eigens[k4][-1])))*\\\n",
    "                            ((Matrix(eigens[k4][-1])).T*coupling*(Matrix(eigens[k3][-1])))*\\\n",
    "                            ((Matrix(eigens[k3][-1])).T*coupling*(Matrix(eigens[k2][-1])))*\\\n",
    "                            ((Matrix(eigens[k2][-1])).T*coupling*(Matrix(eigens[i][-1])))/\\\n",
    "                            ((eigens[i][0]-eigens[k2][0])*(eigens[i][0]-eigens[k3][0])*(eigens[i][0]-eigens[k4][0]))\n",
    "                            summa.append(value[0]) \n",
    "    first_sum = sum(summa)\n",
    "    summa = []\n",
    "    for k4 in range(0,len(eigens)):\n",
    "        if i!=k4:\n",
    "            for k2 in range(0,len(eigens)):\n",
    "                if i!=k2:\n",
    "                    value = (((Matrix(eigens[i][-1])).T*coupling*(Matrix(eigens[k4][-1])))*\\\n",
    "                    ((Matrix(eigens[i][-1])).T*coupling*(Matrix(eigens[k2][-1]))))**2/\\\n",
    "                    (((eigens[i][0]-eigens[k4][0])**2)*(eigens[i][0]-eigens[k2][0]))\n",
    "                    summa.append(value[0]) \n",
    "    second_sum = sum(summa)\n",
    "    summa = []\n",
    "    for k4 in range(0,len(eigens)):\n",
    "        if i!=k4:\n",
    "            for k3 in range(0,len(eigens)):\n",
    "                if i!=k3:\n",
    "                    value = ((Matrix(eigens[i][-1])).T*coupling*(Matrix(eigens[k4][-1])))*\\\n",
    "                    ((Matrix(eigens[k4][-1])).T*coupling*(Matrix(eigens[k3][-1])))*\\\n",
    "                    ((Matrix(eigens[k3][-1])).T*coupling*(Matrix(eigens[i][-1])))/\\\n",
    "                    (((eigens[i][0]-eigens[k3][0])**2)*(eigens[i][0]-eigens[k4][0]))\n",
    "                    summa.append(value[0]) \n",
    "    third_sum = (((Matrix(eigens[i][-1])).T*coupling*(Matrix(eigens[i][-1])))*sum(summa))[0]\n",
    "    print(first_sum)\n",
    "    summa = []\n",
    "    for k4 in range(0,len(eigens)):\n",
    "        if i!=k4:\n",
    "            for k3 in range(0,len(eigens)):\n",
    "                if i!=k3:\n",
    "                    value = ((Matrix(eigens[i][-1])).T*coupling*(Matrix(eigens[k4][-1])))*\\\n",
    "                    ((Matrix(eigens[k4][-1])).T*coupling*(Matrix(eigens[k3][-1])))*\\\n",
    "                    ((Matrix(eigens[k3][-1])).T*coupling*(Matrix(eigens[i][-1])))/\\\n",
    "                    (((eigens[i][0]-eigens[k3][0])**2)*(eigens[i][0]-eigens[k4][0]))\n",
    "                    summa.append(value[0]) \n",
    "    fourth_sum = (((Matrix(eigens[i][-1])).T*coupling*(Matrix(eigens[i][-1])))*sum(summa))[0]\n",
    "    \n",
    "    summa = []\n",
    "    for k4 in range(0,len(eigens)):\n",
    "        if i!=k4:\n",
    "            value = ((Matrix(eigens[i][-1])).T*coupling*(Matrix(eigens[k4][-1])))**2/\\\n",
    "            ((eigens[i][0]-eigens[k4][0])**3)\n",
    "            summa.append(value[0]) \n",
    "    fiveth_sum = ((((Matrix(eigens[i][-1])).T*coupling*(Matrix(eigens[i][-1])))**2)*sum(summa))[0]\n",
    "    \n",
    "    result=first_sum-second_sum-third_sum-fourth_sum+fiveth_sum\n",
    "#     print(result)\n",
    "    delta4.append(result)"
   ]
  },
  {
   "cell_type": "code",
   "execution_count": 30,
   "metadata": {},
   "outputs": [
    {
     "data": {
      "image/png": "[encoded data removed]",
      "text/latex": [
       "$$\\frac{2.0 g1c^{2} g2c^{2}}{\\left(\\omega_{2} - \\omega_{c}\\right)^{2} \\left(- \\alpha_{c} + \\omega_{1} + \\omega_{2} - 2.0 \\omega_{c}\\right)} + \\frac{2.0 g1c^{2} g2c^{2}}{\\left(\\omega_{2} - \\omega_{c}\\right)^{2} \\left(- \\alpha_{1} - 1.0 \\omega_{1} + \\omega_{2}\\right)} + \\frac{4.0 g1c^{2} g2c^{2}}{\\left(\\omega_{1} - \\omega_{c}\\right) \\left(\\omega_{2} - \\omega_{c}\\right) \\left(- \\alpha_{c} + \\omega_{1} + \\omega_{2} - 2.0 \\omega_{c}\\right)} - \\frac{1.0 g1c^{2} g2c^{2}}{\\left(\\omega_{1} - \\omega_{c}\\right) \\left(\\omega_{2} - \\omega_{c}\\right)^{2}} + \\frac{2.0 g1c^{2} g2c^{2}}{\\left(\\omega_{1} - \\omega_{c}\\right)^{2} \\left(- \\alpha_{c} + \\omega_{1} + \\omega_{2} - 2.0 \\omega_{c}\\right)} + \\frac{2.0 g1c^{2} g2c^{2}}{\\left(\\omega_{1} - \\omega_{c}\\right)^{2} \\left(- \\alpha_{2} + \\omega_{1} - 1.0 \\omega_{2}\\right)} - \\frac{1.0 g1c^{2} g2c^{2}}{\\left(\\omega_{1} - \\omega_{c}\\right)^{2} \\left(\\omega_{2} - \\omega_{c}\\right)} - \\frac{1.0 g1c^{2} g2c^{2}}{\\left(\\omega_{1} - \\omega_{2}\\right) \\left(\\omega_{1} - \\omega_{c}\\right)^{2}} - \\frac{1.0 g1c^{2} g2c^{2}}{\\left(- \\omega_{1} + \\omega_{2}\\right) \\left(\\omega_{2} - \\omega_{c}\\right)^{2}}$$"
      ],
      "text/plain": [
       "                   2    2                                2    2               \n",
       "            2.0⋅g1c ⋅g2c                          2.0⋅g1c ⋅g2c                \n",
       "────────────────────────────────────── + ─────────────────────────────── + ───\n",
       "          2                                        2                       (ω₁\n",
       "(ω₂ - ω_c) ⋅(-α_c + ω₁ + ω₂ - 2.0⋅ω_c)   (ω₂ - ω_c) ⋅(-α₁ - 1.0⋅ω₁ + ω₂)      \n",
       "\n",
       "                     2    2                                2    2             \n",
       "              4.0⋅g1c ⋅g2c                          1.0⋅g1c ⋅g2c              \n",
       "───────────────────────────────────────────── - ────────────────────── + ─────\n",
       " - ω_c)⋅(ω₂ - ω_c)⋅(-α_c + ω₁ + ω₂ - 2.0⋅ω_c)                        2        \n",
       "                                                (ω₁ - ω_c)⋅(ω₂ - ω_c)    (ω₁ -\n",
       "\n",
       "              2    2                                2    2                    \n",
       "       2.0⋅g1c ⋅g2c                          2.0⋅g1c ⋅g2c                 1.0⋅\n",
       "───────────────────────────────── + ─────────────────────────────── - ────────\n",
       "     2                                        2                               \n",
       " ω_c) ⋅(-α_c + ω₁ + ω₂ - 2.0⋅ω_c)   (ω₁ - ω_c) ⋅(-α₂ + ω₁ - 1.0⋅ω₂)   (ω₁ - ω_\n",
       "\n",
       "   2    2                   2    2                  2    2     \n",
       "g1c ⋅g2c             1.0⋅g1c ⋅g2c            1.0⋅g1c ⋅g2c      \n",
       "────────────── - ───────────────────── - ──────────────────────\n",
       "  2                                  2                        2\n",
       "c) ⋅(ω₂ - ω_c)   (ω₁ - ω₂)⋅(ω₁ - ω_c)    (-ω₁ + ω₂)⋅(ω₂ - ω_c) "
      ]
     },
     "execution_count": 30,
     "metadata": {},
     "output_type": "execute_result"
    }
   ],
   "source": [
    "delta4[-1]-delta4[0]-delta4[1]"
   ]
  },
  {
   "cell_type": "code",
   "execution_count": 27,
   "metadata": {},
   "outputs": [
    {
     "data": {
      "image/png": "[encoded data removed]",
      "text/latex": [
       "$$- \\frac{1.0 g1c^{4}}{\\left(\\omega_{1} - \\omega_{c}\\right)^{3}} - \\frac{2.0 g1c^{2} g2c^{2}}{\\left(\\omega_{2} - \\omega_{c}\\right)^{2} \\left(\\alpha_{c} - \\omega_{1} - \\omega_{2} + 2.0 \\omega_{c}\\right)} - \\frac{2.0 g1c^{2} g2c^{2}}{\\left(\\omega_{2} - \\omega_{c}\\right)^{2} \\left(\\alpha_{1} + 1.0 \\omega_{1} - \\omega_{2}\\right)} - \\frac{4.0 g1c^{2} g2c^{2}}{\\left(\\omega_{1} - \\omega_{c}\\right) \\left(\\omega_{2} - \\omega_{c}\\right) \\left(\\alpha_{c} - \\omega_{1} - \\omega_{2} + 2.0 \\omega_{c}\\right)} - \\frac{1.0 g1c^{2} g2c^{2}}{\\left(\\omega_{1} - \\omega_{c}\\right) \\left(\\omega_{2} - \\omega_{c}\\right)^{2}} - \\frac{2.0 g1c^{2} g2c^{2}}{\\left(\\omega_{1} - \\omega_{c}\\right)^{2} \\left(\\alpha_{c} - \\omega_{1} - \\omega_{2} + 2.0 \\omega_{c}\\right)} - \\frac{2.0 g1c^{2} g2c^{2}}{\\left(\\omega_{1} - \\omega_{c}\\right)^{2} \\left(\\alpha_{2} - \\omega_{1} + 1.0 \\omega_{2}\\right)} - \\frac{1.0 g1c^{2} g2c^{2}}{\\left(\\omega_{1} - \\omega_{c}\\right)^{2} \\left(\\omega_{2} - \\omega_{c}\\right)} - \\frac{1.0 g2c^{4}}{\\left(\\omega_{2} - \\omega_{c}\\right)^{3}}$$"
      ],
      "text/plain": [
       "           4                       2    2                              2    2 \n",
       "    1.0⋅g1c                 2.0⋅g1c ⋅g2c                        2.0⋅g1c ⋅g2c  \n",
       "- ─────────── - ───────────────────────────────────── - ──────────────────────\n",
       "            3             2                                       2           \n",
       "  (ω₁ - ω_c)    (ω₂ - ω_c) ⋅(α_c - ω₁ - ω₂ + 2.0⋅ω_c)   (ω₂ - ω_c) ⋅(α₁ + 1.0⋅\n",
       "\n",
       "                                   2    2                               2    2\n",
       "                            4.0⋅g1c ⋅g2c                         1.0⋅g1c ⋅g2c \n",
       "──────── - ─────────────────────────────────────────────── - ─────────────────\n",
       "           (ω₁ - ω_c)⋅(ω₂ - ω_c)⋅(α_c - ω₁ - ω₂ + 2.0⋅ω_c)                    \n",
       "ω₁ - ω₂)                                                     (ω₁ - ω_c)⋅(ω₂ - \n",
       "\n",
       "                           2    2                              2    2         \n",
       "                    2.0⋅g1c ⋅g2c                        2.0⋅g1c ⋅g2c          \n",
       "───── - ───────────────────────────────────── - ──────────────────────────────\n",
       "    2             2                                       2                   \n",
       "ω_c)    (ω₁ - ω_c) ⋅(α_c - ω₁ - ω₂ + 2.0⋅ω_c)   (ω₁ - ω_c) ⋅(α₂ - ω₁ + 1.0⋅ω₂)\n",
       "\n",
       "              2    2                 4 \n",
       "       1.0⋅g1c ⋅g2c           1.0⋅g2c  \n",
       " - ────────────────────── - ───────────\n",
       "             2                        3\n",
       "   (ω₁ - ω_c) ⋅(ω₂ - ω_c)   (ω₂ - ω_c) "
      ]
     },
     "execution_count": 27,
     "metadata": {},
     "output_type": "execute_result"
    }
   ],
   "source": [
    "sympy.simplify(delta4[-1])"
   ]
  },
  {
   "cell_type": "code",
   "execution_count": 24,
   "metadata": {},
   "outputs": [
    {
     "data": {
      "image/png": "[encoded data removed]",
      "text/latex": [
       "$$\\frac{1.0 g1c^{2} g2c^{2}}{\\left(- \\omega_{1} + \\omega_{2}\\right) \\left(\\omega_{2} - \\omega_{c}\\right)^{2}} - \\frac{1.0 g2c^{4}}{\\left(\\omega_{2} - \\omega_{c}\\right)^{3}}$$"
      ],
      "text/plain": [
       "           2    2                 4 \n",
       "    1.0⋅g1c ⋅g2c           1.0⋅g2c  \n",
       "────────────────────── - ───────────\n",
       "                     2             3\n",
       "(-ω₁ + ω₂)⋅(ω₂ - ω_c)    (ω₂ - ω_c) "
      ]
     },
     "execution_count": 24,
     "metadata": {},
     "output_type": "execute_result"
    }
   ],
   "source": [
    "delta4[1]"
   ]
  },
  {
   "cell_type": "code",
   "execution_count": 25,
   "metadata": {},
   "outputs": [
    {
     "data": {
      "image/png": "[encoded data removed]",
      "text/latex": [
       "$$- \\frac{1.0 g1c^{4}}{\\left(\\omega_{1} - \\omega_{c}\\right)^{3}} + \\frac{1.0 g1c^{2} g2c^{2}}{\\left(\\omega_{1} - \\omega_{2}\\right) \\left(\\omega_{1} - \\omega_{c}\\right)^{2}}$$"
      ],
      "text/plain": [
       "           4               2    2    \n",
       "    1.0⋅g1c         1.0⋅g1c ⋅g2c     \n",
       "- ─────────── + ─────────────────────\n",
       "            3                       2\n",
       "  (ω₁ - ω_c)    (ω₁ - ω₂)⋅(ω₁ - ω_c) "
      ]
     },
     "execution_count": 25,
     "metadata": {},
     "output_type": "execute_result"
    }
   ],
   "source": [
    "delta4[0]"
   ]
  },
  {
   "cell_type": "code",
   "execution_count": 17,
   "metadata": {},
   "outputs": [
    {
     "data": {
      "image/png": "[encoded data removed]",
      "text/latex": [
       "$$0$$"
      ],
      "text/plain": [
       "0"
      ]
     },
     "execution_count": 17,
     "metadata": {},
     "output_type": "execute_result"
    }
   ],
   "source": [
    "delta4[2]"
   ]
  },
  {
   "cell_type": "code",
   "execution_count": null,
   "metadata": {},
   "outputs": [],
   "source": []
  }
 ],
 "metadata": {
  "kernelspec": {
   "display_name": "Python 3",
   "language": "python",
   "name": "python3"
  },
  "language_info": {
   "codemirror_mode": {
    "name": "ipython",
    "version": 3
   },
   "file_extension": ".py",
   "mimetype": "text/x-python",
   "name": "python",
   "nbconvert_exporter": "python",
   "pygments_lexer": "ipython3",
   "version": "3.7.3"
  }
 },
 "nbformat": 4,
 "nbformat_minor": 2
}
